{
  "cells": [
    {
      "cell_type": "markdown",
      "metadata": {
        "id": "view-in-github",
        "colab_type": "text"
      },
      "source": [
        "<a href=\"https://colab.research.google.com/github/napatsaha/westernsydney/blob/main/Group_4_PA_1.ipynb\" target=\"_parent\"><img src=\"https://colab.research.google.com/assets/colab-badge.svg\" alt=\"Open In Colab\"/></a>"
      ]
    },
    {
      "cell_type": "markdown",
      "source": [
        "# Introduction\n",
        "\n",
        "In our report, we will be comparing different methods of Linear Regression models to analyze a dataset about white wine quality and alcohol content.\n",
        "\n",
        "The data analysis will be performed within the framework of the `sklearn` package.\n",
        "\n",
        "\n",
        "The dataset contains physical information about different kinds of white wine. Our 2 main target variables are: the quality of the wine as rated by experts on a scale of 1-10 (for classification), and its alcohol content (for regression). The predicting features will be other physical and chemical properties such as pH, density, acidity, sugar content (10 in total).\n",
        "\n",
        "The analysis can be split into 3 parts:\n",
        "\n",
        "\n",
        "1.   Using **Simple Linear Regression** to predict alcohol content, comparing both explicit Gradient Descent and library-based solutions\n",
        "2.   Using **Logistic Regression** to classify wine quality in both binary and multi-class classifications. Multi-class approaches will consider both One-Vs-All and One-vs-Rest.\n",
        "3.   Using **Ridge Regression** to analyze important features affecting alcohol content. Cross-validated tuning will also be used to select the best hyperparameter\n",
        "\n",
        "\n",
        "\n"
      ],
      "metadata": {
        "id": "ACM1EU6Q-WRl"
      }
    },
    {
      "cell_type": "markdown",
      "source": [
        "# Data Import and Preprocessing\n",
        "\n",
        "The relevant scientific Python packages are imported here, including each function  separately from the various sklearn modules.\n",
        "\n",
        "In order to import the data, we hosted our dataset on a public GitHub, for long-term remote access to the file. Alternatively, an option has also been provided which read the file in locally if it is available from the same directory. "
      ],
      "metadata": {
        "id": "07XUx_ecEMZw"
      }
    },
    {
      "cell_type": "code",
      "execution_count": null,
      "metadata": {
        "id": "5iz1_lC4iU4T"
      },
      "outputs": [],
      "source": [
        "#load library\n",
        "import numpy as np\n",
        "import pandas as pd\n",
        "import matplotlib.pyplot as plt\n",
        "import seaborn as sns\n",
        "import os\n",
        "import sklearn.metrics\n",
        "\n",
        "wine_local = \"winequality-white.csv\"\n",
        "wine_url = \"https://raw.githubusercontent.com/napatsaha/westernsydney/main/winequality-white.csv\"\n",
        "\n",
        "# If local file exists, use the local file, otherwise download from github link\n",
        "if wine_local in os.listdir():\n",
        "  wine_file = wine_local\n",
        "else:\n",
        "  wine_file = wine_url\n",
        "\n",
        "#load dataset\n",
        "wine=pd.read_csv(wine_file,delimiter=';')"
      ]
    },
    {
      "cell_type": "code",
      "execution_count": null,
      "metadata": {
        "colab": {
          "base_uri": "https://localhost:8080/",
          "height": 305
        },
        "id": "Ge7PbrLaRkW-",
        "outputId": "5ef4a7ec-49cb-4f1f-acbe-36a9f43be4a6"
      },
      "outputs": [
        {
          "output_type": "execute_result",
          "data": {
            "text/plain": [
              "   fixed acidity  volatile acidity  citric acid  residual sugar  chlorides  \\\n",
              "0            7.0              0.27         0.36            20.7      0.045   \n",
              "1            6.3              0.30         0.34             1.6      0.049   \n",
              "2            8.1              0.28         0.40             6.9      0.050   \n",
              "3            7.2              0.23         0.32             8.5      0.058   \n",
              "4            7.2              0.23         0.32             8.5      0.058   \n",
              "\n",
              "   free sulfur dioxide  total sulfur dioxide  density    pH  sulphates  \\\n",
              "0                 45.0                 170.0   1.0010  3.00       0.45   \n",
              "1                 14.0                 132.0   0.9940  3.30       0.49   \n",
              "2                 30.0                  97.0   0.9951  3.26       0.44   \n",
              "3                 47.0                 186.0   0.9956  3.19       0.40   \n",
              "4                 47.0                 186.0   0.9956  3.19       0.40   \n",
              "\n",
              "   alcohol  quality  \n",
              "0      8.8        6  \n",
              "1      9.5        6  \n",
              "2     10.1        6  \n",
              "3      9.9        6  \n",
              "4      9.9        6  "
            ],
            "text/html": [
              "\n",
              "  <div id=\"df-790255ab-d4c0-44a0-8da8-6cbe5a64414e\">\n",
              "    <div class=\"colab-df-container\">\n",
              "      <div>\n",
              "<style scoped>\n",
              "    .dataframe tbody tr th:only-of-type {\n",
              "        vertical-align: middle;\n",
              "    }\n",
              "\n",
              "    .dataframe tbody tr th {\n",
              "        vertical-align: top;\n",
              "    }\n",
              "\n",
              "    .dataframe thead th {\n",
              "        text-align: right;\n",
              "    }\n",
              "</style>\n",
              "<table border=\"1\" class=\"dataframe\">\n",
              "  <thead>\n",
              "    <tr style=\"text-align: right;\">\n",
              "      <th></th>\n",
              "      <th>fixed acidity</th>\n",
              "      <th>volatile acidity</th>\n",
              "      <th>citric acid</th>\n",
              "      <th>residual sugar</th>\n",
              "      <th>chlorides</th>\n",
              "      <th>free sulfur dioxide</th>\n",
              "      <th>total sulfur dioxide</th>\n",
              "      <th>density</th>\n",
              "      <th>pH</th>\n",
              "      <th>sulphates</th>\n",
              "      <th>alcohol</th>\n",
              "      <th>quality</th>\n",
              "    </tr>\n",
              "  </thead>\n",
              "  <tbody>\n",
              "    <tr>\n",
              "      <th>0</th>\n",
              "      <td>7.0</td>\n",
              "      <td>0.27</td>\n",
              "      <td>0.36</td>\n",
              "      <td>20.7</td>\n",
              "      <td>0.045</td>\n",
              "      <td>45.0</td>\n",
              "      <td>170.0</td>\n",
              "      <td>1.0010</td>\n",
              "      <td>3.00</td>\n",
              "      <td>0.45</td>\n",
              "      <td>8.8</td>\n",
              "      <td>6</td>\n",
              "    </tr>\n",
              "    <tr>\n",
              "      <th>1</th>\n",
              "      <td>6.3</td>\n",
              "      <td>0.30</td>\n",
              "      <td>0.34</td>\n",
              "      <td>1.6</td>\n",
              "      <td>0.049</td>\n",
              "      <td>14.0</td>\n",
              "      <td>132.0</td>\n",
              "      <td>0.9940</td>\n",
              "      <td>3.30</td>\n",
              "      <td>0.49</td>\n",
              "      <td>9.5</td>\n",
              "      <td>6</td>\n",
              "    </tr>\n",
              "    <tr>\n",
              "      <th>2</th>\n",
              "      <td>8.1</td>\n",
              "      <td>0.28</td>\n",
              "      <td>0.40</td>\n",
              "      <td>6.9</td>\n",
              "      <td>0.050</td>\n",
              "      <td>30.0</td>\n",
              "      <td>97.0</td>\n",
              "      <td>0.9951</td>\n",
              "      <td>3.26</td>\n",
              "      <td>0.44</td>\n",
              "      <td>10.1</td>\n",
              "      <td>6</td>\n",
              "    </tr>\n",
              "    <tr>\n",
              "      <th>3</th>\n",
              "      <td>7.2</td>\n",
              "      <td>0.23</td>\n",
              "      <td>0.32</td>\n",
              "      <td>8.5</td>\n",
              "      <td>0.058</td>\n",
              "      <td>47.0</td>\n",
              "      <td>186.0</td>\n",
              "      <td>0.9956</td>\n",
              "      <td>3.19</td>\n",
              "      <td>0.40</td>\n",
              "      <td>9.9</td>\n",
              "      <td>6</td>\n",
              "    </tr>\n",
              "    <tr>\n",
              "      <th>4</th>\n",
              "      <td>7.2</td>\n",
              "      <td>0.23</td>\n",
              "      <td>0.32</td>\n",
              "      <td>8.5</td>\n",
              "      <td>0.058</td>\n",
              "      <td>47.0</td>\n",
              "      <td>186.0</td>\n",
              "      <td>0.9956</td>\n",
              "      <td>3.19</td>\n",
              "      <td>0.40</td>\n",
              "      <td>9.9</td>\n",
              "      <td>6</td>\n",
              "    </tr>\n",
              "  </tbody>\n",
              "</table>\n",
              "</div>\n",
              "      <button class=\"colab-df-convert\" onclick=\"convertToInteractive('df-790255ab-d4c0-44a0-8da8-6cbe5a64414e')\"\n",
              "              title=\"Convert this dataframe to an interactive table.\"\n",
              "              style=\"display:none;\">\n",
              "        \n",
              "  <svg xmlns=\"http://www.w3.org/2000/svg\" height=\"24px\"viewBox=\"0 0 24 24\"\n",
              "       width=\"24px\">\n",
              "    <path d=\"M0 0h24v24H0V0z\" fill=\"none\"/>\n",
              "    <path d=\"M18.56 5.44l.94 2.06.94-2.06 2.06-.94-2.06-.94-.94-2.06-.94 2.06-2.06.94zm-11 1L8.5 8.5l.94-2.06 2.06-.94-2.06-.94L8.5 2.5l-.94 2.06-2.06.94zm10 10l.94 2.06.94-2.06 2.06-.94-2.06-.94-.94-2.06-.94 2.06-2.06.94z\"/><path d=\"M17.41 7.96l-1.37-1.37c-.4-.4-.92-.59-1.43-.59-.52 0-1.04.2-1.43.59L10.3 9.45l-7.72 7.72c-.78.78-.78 2.05 0 2.83L4 21.41c.39.39.9.59 1.41.59.51 0 1.02-.2 1.41-.59l7.78-7.78 2.81-2.81c.8-.78.8-2.07 0-2.86zM5.41 20L4 18.59l7.72-7.72 1.47 1.35L5.41 20z\"/>\n",
              "  </svg>\n",
              "      </button>\n",
              "      \n",
              "  <style>\n",
              "    .colab-df-container {\n",
              "      display:flex;\n",
              "      flex-wrap:wrap;\n",
              "      gap: 12px;\n",
              "    }\n",
              "\n",
              "    .colab-df-convert {\n",
              "      background-color: #E8F0FE;\n",
              "      border: none;\n",
              "      border-radius: 50%;\n",
              "      cursor: pointer;\n",
              "      display: none;\n",
              "      fill: #1967D2;\n",
              "      height: 32px;\n",
              "      padding: 0 0 0 0;\n",
              "      width: 32px;\n",
              "    }\n",
              "\n",
              "    .colab-df-convert:hover {\n",
              "      background-color: #E2EBFA;\n",
              "      box-shadow: 0px 1px 2px rgba(60, 64, 67, 0.3), 0px 1px 3px 1px rgba(60, 64, 67, 0.15);\n",
              "      fill: #174EA6;\n",
              "    }\n",
              "\n",
              "    [theme=dark] .colab-df-convert {\n",
              "      background-color: #3B4455;\n",
              "      fill: #D2E3FC;\n",
              "    }\n",
              "\n",
              "    [theme=dark] .colab-df-convert:hover {\n",
              "      background-color: #434B5C;\n",
              "      box-shadow: 0px 1px 3px 1px rgba(0, 0, 0, 0.15);\n",
              "      filter: drop-shadow(0px 1px 2px rgba(0, 0, 0, 0.3));\n",
              "      fill: #FFFFFF;\n",
              "    }\n",
              "  </style>\n",
              "\n",
              "      <script>\n",
              "        const buttonEl =\n",
              "          document.querySelector('#df-790255ab-d4c0-44a0-8da8-6cbe5a64414e button.colab-df-convert');\n",
              "        buttonEl.style.display =\n",
              "          google.colab.kernel.accessAllowed ? 'block' : 'none';\n",
              "\n",
              "        async function convertToInteractive(key) {\n",
              "          const element = document.querySelector('#df-790255ab-d4c0-44a0-8da8-6cbe5a64414e');\n",
              "          const dataTable =\n",
              "            await google.colab.kernel.invokeFunction('convertToInteractive',\n",
              "                                                     [key], {});\n",
              "          if (!dataTable) return;\n",
              "\n",
              "          const docLinkHtml = 'Like what you see? Visit the ' +\n",
              "            '<a target=\"_blank\" href=https://colab.research.google.com/notebooks/data_table.ipynb>data table notebook</a>'\n",
              "            + ' to learn more about interactive tables.';\n",
              "          element.innerHTML = '';\n",
              "          dataTable['output_type'] = 'display_data';\n",
              "          await google.colab.output.renderOutput(dataTable, element);\n",
              "          const docLink = document.createElement('div');\n",
              "          docLink.innerHTML = docLinkHtml;\n",
              "          element.appendChild(docLink);\n",
              "        }\n",
              "      </script>\n",
              "    </div>\n",
              "  </div>\n",
              "  "
            ]
          },
          "metadata": {},
          "execution_count": 79
        }
      ],
      "source": [
        "wine.head()"
      ]
    },
    {
      "cell_type": "code",
      "execution_count": null,
      "metadata": {
        "id": "Rua0rGjmScB9"
      },
      "outputs": [],
      "source": [
        "# import sklearn\n",
        "from sklearn.linear_model import LinearRegression, LogisticRegression, Ridge\n",
        "from sklearn.model_selection import train_test_split, GridSearchCV\n",
        "from sklearn.pipeline import make_pipeline, Pipeline\n",
        "from sklearn.preprocessing import StandardScaler, Binarizer, binarize, KBinsDiscretizer\n",
        "from sklearn.compose import TransformedTargetRegressor\n",
        "from sklearn.multiclass import OneVsOneClassifier, OneVsRestClassifier\n",
        "from sklearn.metrics import mean_squared_error, r2_score"
      ]
    },
    {
      "cell_type": "code",
      "source": [
        "def reg_evalute(y_true,y_pred) :\n",
        "    import sklearn.metrics\n",
        "    mae=round(sklearn.metrics.mean_absolute_error(y_true, y_pred),4)\n",
        "    print(\"The Mean Absolute error is :\",mae)\n",
        "    mse=round(sklearn.metrics.mean_squared_error(y_true, y_pred),4)\n",
        "    print(\"The Mean Squared Error is:\",mse)\n",
        "    rmse=round(mse**(1/2),4)\n",
        "    print(\"The Root Mean Squared Error is:\",rmse)\n",
        "    rsquared=round(sklearn.metrics.r2_score(y_true, y_pred),4)\n",
        "    print(\"The R Square is:\",rsquared)\n",
        "    return mae,mse,rmse,rsquared"
      ],
      "metadata": {
        "id": "4tJ3AQBGJ6n4"
      },
      "execution_count": null,
      "outputs": []
    },
    {
      "cell_type": "code",
      "execution_count": null,
      "metadata": {
        "colab": {
          "base_uri": "https://localhost:8080/"
        },
        "id": "xP07Vrs-kT5h",
        "outputId": "6d344590-d239-4e46-e975-98d412ff6559"
      },
      "outputs": [
        {
          "output_type": "stream",
          "name": "stdout",
          "text": [
            "number of NA value is : \n",
            " 0\n",
            "number of NULL value is : \n",
            "  0\n"
          ]
        }
      ],
      "source": [
        "# Check for any missing values\n",
        "print(\"number of NA value is : \\n\",wine.isna().sum().sum())\n",
        "print(\"number of NULL value is : \\n \",wine.isnull().sum().sum())"
      ]
    },
    {
      "cell_type": "code",
      "execution_count": null,
      "metadata": {
        "colab": {
          "base_uri": "https://localhost:8080/",
          "height": 646
        },
        "id": "ug3Bw06WOGR3",
        "outputId": "d28bbd3c-479f-45ee-8640-f9c87ada9d6f"
      },
      "outputs": [
        {
          "output_type": "execute_result",
          "data": {
            "text/plain": [
              "                      fixed acidity  volatile acidity  citric acid  \\\n",
              "fixed acidity              1.000000         -0.022697     0.289181   \n",
              "volatile acidity          -0.022697          1.000000    -0.149472   \n",
              "citric acid                0.289181         -0.149472     1.000000   \n",
              "residual sugar             0.089021          0.064286     0.094212   \n",
              "chlorides                  0.023086          0.070512     0.114364   \n",
              "free sulfur dioxide       -0.049396         -0.097012     0.094077   \n",
              "total sulfur dioxide       0.091070          0.089261     0.121131   \n",
              "density                    0.265331          0.027114     0.149503   \n",
              "pH                        -0.425858         -0.031915    -0.163748   \n",
              "sulphates                 -0.017143         -0.035728     0.062331   \n",
              "alcohol                   -0.120881          0.067718    -0.075729   \n",
              "quality                   -0.113663         -0.194723    -0.009209   \n",
              "\n",
              "                      residual sugar  chlorides  free sulfur dioxide  \\\n",
              "fixed acidity               0.089021   0.023086            -0.049396   \n",
              "volatile acidity            0.064286   0.070512            -0.097012   \n",
              "citric acid                 0.094212   0.114364             0.094077   \n",
              "residual sugar              1.000000   0.088685             0.299098   \n",
              "chlorides                   0.088685   1.000000             0.101392   \n",
              "free sulfur dioxide         0.299098   0.101392             1.000000   \n",
              "total sulfur dioxide        0.401439   0.198910             0.615501   \n",
              "density                     0.838966   0.257211             0.294210   \n",
              "pH                         -0.194133  -0.090439            -0.000618   \n",
              "sulphates                  -0.026664   0.016763             0.059217   \n",
              "alcohol                    -0.450631  -0.360189            -0.250104   \n",
              "quality                    -0.097577  -0.209934             0.008158   \n",
              "\n",
              "                      total sulfur dioxide   density        pH  sulphates  \\\n",
              "fixed acidity                     0.091070  0.265331 -0.425858  -0.017143   \n",
              "volatile acidity                  0.089261  0.027114 -0.031915  -0.035728   \n",
              "citric acid                       0.121131  0.149503 -0.163748   0.062331   \n",
              "residual sugar                    0.401439  0.838966 -0.194133  -0.026664   \n",
              "chlorides                         0.198910  0.257211 -0.090439   0.016763   \n",
              "free sulfur dioxide               0.615501  0.294210 -0.000618   0.059217   \n",
              "total sulfur dioxide              1.000000  0.529881  0.002321   0.134562   \n",
              "density                           0.529881  1.000000 -0.093591   0.074493   \n",
              "pH                                0.002321 -0.093591  1.000000   0.155951   \n",
              "sulphates                         0.134562  0.074493  0.155951   1.000000   \n",
              "alcohol                          -0.448892 -0.780138  0.121432  -0.017433   \n",
              "quality                          -0.174737 -0.307123  0.099427   0.053678   \n",
              "\n",
              "                       alcohol   quality  \n",
              "fixed acidity        -0.120881 -0.113663  \n",
              "volatile acidity      0.067718 -0.194723  \n",
              "citric acid          -0.075729 -0.009209  \n",
              "residual sugar       -0.450631 -0.097577  \n",
              "chlorides            -0.360189 -0.209934  \n",
              "free sulfur dioxide  -0.250104  0.008158  \n",
              "total sulfur dioxide -0.448892 -0.174737  \n",
              "density              -0.780138 -0.307123  \n",
              "pH                    0.121432  0.099427  \n",
              "sulphates            -0.017433  0.053678  \n",
              "alcohol               1.000000  0.435575  \n",
              "quality               0.435575  1.000000  "
            ],
            "text/html": [
              "\n",
              "  <div id=\"df-0208c36d-7b05-497e-b89f-a025c9e16468\">\n",
              "    <div class=\"colab-df-container\">\n",
              "      <div>\n",
              "<style scoped>\n",
              "    .dataframe tbody tr th:only-of-type {\n",
              "        vertical-align: middle;\n",
              "    }\n",
              "\n",
              "    .dataframe tbody tr th {\n",
              "        vertical-align: top;\n",
              "    }\n",
              "\n",
              "    .dataframe thead th {\n",
              "        text-align: right;\n",
              "    }\n",
              "</style>\n",
              "<table border=\"1\" class=\"dataframe\">\n",
              "  <thead>\n",
              "    <tr style=\"text-align: right;\">\n",
              "      <th></th>\n",
              "      <th>fixed acidity</th>\n",
              "      <th>volatile acidity</th>\n",
              "      <th>citric acid</th>\n",
              "      <th>residual sugar</th>\n",
              "      <th>chlorides</th>\n",
              "      <th>free sulfur dioxide</th>\n",
              "      <th>total sulfur dioxide</th>\n",
              "      <th>density</th>\n",
              "      <th>pH</th>\n",
              "      <th>sulphates</th>\n",
              "      <th>alcohol</th>\n",
              "      <th>quality</th>\n",
              "    </tr>\n",
              "  </thead>\n",
              "  <tbody>\n",
              "    <tr>\n",
              "      <th>fixed acidity</th>\n",
              "      <td>1.000000</td>\n",
              "      <td>-0.022697</td>\n",
              "      <td>0.289181</td>\n",
              "      <td>0.089021</td>\n",
              "      <td>0.023086</td>\n",
              "      <td>-0.049396</td>\n",
              "      <td>0.091070</td>\n",
              "      <td>0.265331</td>\n",
              "      <td>-0.425858</td>\n",
              "      <td>-0.017143</td>\n",
              "      <td>-0.120881</td>\n",
              "      <td>-0.113663</td>\n",
              "    </tr>\n",
              "    <tr>\n",
              "      <th>volatile acidity</th>\n",
              "      <td>-0.022697</td>\n",
              "      <td>1.000000</td>\n",
              "      <td>-0.149472</td>\n",
              "      <td>0.064286</td>\n",
              "      <td>0.070512</td>\n",
              "      <td>-0.097012</td>\n",
              "      <td>0.089261</td>\n",
              "      <td>0.027114</td>\n",
              "      <td>-0.031915</td>\n",
              "      <td>-0.035728</td>\n",
              "      <td>0.067718</td>\n",
              "      <td>-0.194723</td>\n",
              "    </tr>\n",
              "    <tr>\n",
              "      <th>citric acid</th>\n",
              "      <td>0.289181</td>\n",
              "      <td>-0.149472</td>\n",
              "      <td>1.000000</td>\n",
              "      <td>0.094212</td>\n",
              "      <td>0.114364</td>\n",
              "      <td>0.094077</td>\n",
              "      <td>0.121131</td>\n",
              "      <td>0.149503</td>\n",
              "      <td>-0.163748</td>\n",
              "      <td>0.062331</td>\n",
              "      <td>-0.075729</td>\n",
              "      <td>-0.009209</td>\n",
              "    </tr>\n",
              "    <tr>\n",
              "      <th>residual sugar</th>\n",
              "      <td>0.089021</td>\n",
              "      <td>0.064286</td>\n",
              "      <td>0.094212</td>\n",
              "      <td>1.000000</td>\n",
              "      <td>0.088685</td>\n",
              "      <td>0.299098</td>\n",
              "      <td>0.401439</td>\n",
              "      <td>0.838966</td>\n",
              "      <td>-0.194133</td>\n",
              "      <td>-0.026664</td>\n",
              "      <td>-0.450631</td>\n",
              "      <td>-0.097577</td>\n",
              "    </tr>\n",
              "    <tr>\n",
              "      <th>chlorides</th>\n",
              "      <td>0.023086</td>\n",
              "      <td>0.070512</td>\n",
              "      <td>0.114364</td>\n",
              "      <td>0.088685</td>\n",
              "      <td>1.000000</td>\n",
              "      <td>0.101392</td>\n",
              "      <td>0.198910</td>\n",
              "      <td>0.257211</td>\n",
              "      <td>-0.090439</td>\n",
              "      <td>0.016763</td>\n",
              "      <td>-0.360189</td>\n",
              "      <td>-0.209934</td>\n",
              "    </tr>\n",
              "    <tr>\n",
              "      <th>free sulfur dioxide</th>\n",
              "      <td>-0.049396</td>\n",
              "      <td>-0.097012</td>\n",
              "      <td>0.094077</td>\n",
              "      <td>0.299098</td>\n",
              "      <td>0.101392</td>\n",
              "      <td>1.000000</td>\n",
              "      <td>0.615501</td>\n",
              "      <td>0.294210</td>\n",
              "      <td>-0.000618</td>\n",
              "      <td>0.059217</td>\n",
              "      <td>-0.250104</td>\n",
              "      <td>0.008158</td>\n",
              "    </tr>\n",
              "    <tr>\n",
              "      <th>total sulfur dioxide</th>\n",
              "      <td>0.091070</td>\n",
              "      <td>0.089261</td>\n",
              "      <td>0.121131</td>\n",
              "      <td>0.401439</td>\n",
              "      <td>0.198910</td>\n",
              "      <td>0.615501</td>\n",
              "      <td>1.000000</td>\n",
              "      <td>0.529881</td>\n",
              "      <td>0.002321</td>\n",
              "      <td>0.134562</td>\n",
              "      <td>-0.448892</td>\n",
              "      <td>-0.174737</td>\n",
              "    </tr>\n",
              "    <tr>\n",
              "      <th>density</th>\n",
              "      <td>0.265331</td>\n",
              "      <td>0.027114</td>\n",
              "      <td>0.149503</td>\n",
              "      <td>0.838966</td>\n",
              "      <td>0.257211</td>\n",
              "      <td>0.294210</td>\n",
              "      <td>0.529881</td>\n",
              "      <td>1.000000</td>\n",
              "      <td>-0.093591</td>\n",
              "      <td>0.074493</td>\n",
              "      <td>-0.780138</td>\n",
              "      <td>-0.307123</td>\n",
              "    </tr>\n",
              "    <tr>\n",
              "      <th>pH</th>\n",
              "      <td>-0.425858</td>\n",
              "      <td>-0.031915</td>\n",
              "      <td>-0.163748</td>\n",
              "      <td>-0.194133</td>\n",
              "      <td>-0.090439</td>\n",
              "      <td>-0.000618</td>\n",
              "      <td>0.002321</td>\n",
              "      <td>-0.093591</td>\n",
              "      <td>1.000000</td>\n",
              "      <td>0.155951</td>\n",
              "      <td>0.121432</td>\n",
              "      <td>0.099427</td>\n",
              "    </tr>\n",
              "    <tr>\n",
              "      <th>sulphates</th>\n",
              "      <td>-0.017143</td>\n",
              "      <td>-0.035728</td>\n",
              "      <td>0.062331</td>\n",
              "      <td>-0.026664</td>\n",
              "      <td>0.016763</td>\n",
              "      <td>0.059217</td>\n",
              "      <td>0.134562</td>\n",
              "      <td>0.074493</td>\n",
              "      <td>0.155951</td>\n",
              "      <td>1.000000</td>\n",
              "      <td>-0.017433</td>\n",
              "      <td>0.053678</td>\n",
              "    </tr>\n",
              "    <tr>\n",
              "      <th>alcohol</th>\n",
              "      <td>-0.120881</td>\n",
              "      <td>0.067718</td>\n",
              "      <td>-0.075729</td>\n",
              "      <td>-0.450631</td>\n",
              "      <td>-0.360189</td>\n",
              "      <td>-0.250104</td>\n",
              "      <td>-0.448892</td>\n",
              "      <td>-0.780138</td>\n",
              "      <td>0.121432</td>\n",
              "      <td>-0.017433</td>\n",
              "      <td>1.000000</td>\n",
              "      <td>0.435575</td>\n",
              "    </tr>\n",
              "    <tr>\n",
              "      <th>quality</th>\n",
              "      <td>-0.113663</td>\n",
              "      <td>-0.194723</td>\n",
              "      <td>-0.009209</td>\n",
              "      <td>-0.097577</td>\n",
              "      <td>-0.209934</td>\n",
              "      <td>0.008158</td>\n",
              "      <td>-0.174737</td>\n",
              "      <td>-0.307123</td>\n",
              "      <td>0.099427</td>\n",
              "      <td>0.053678</td>\n",
              "      <td>0.435575</td>\n",
              "      <td>1.000000</td>\n",
              "    </tr>\n",
              "  </tbody>\n",
              "</table>\n",
              "</div>\n",
              "      <button class=\"colab-df-convert\" onclick=\"convertToInteractive('df-0208c36d-7b05-497e-b89f-a025c9e16468')\"\n",
              "              title=\"Convert this dataframe to an interactive table.\"\n",
              "              style=\"display:none;\">\n",
              "        \n",
              "  <svg xmlns=\"http://www.w3.org/2000/svg\" height=\"24px\"viewBox=\"0 0 24 24\"\n",
              "       width=\"24px\">\n",
              "    <path d=\"M0 0h24v24H0V0z\" fill=\"none\"/>\n",
              "    <path d=\"M18.56 5.44l.94 2.06.94-2.06 2.06-.94-2.06-.94-.94-2.06-.94 2.06-2.06.94zm-11 1L8.5 8.5l.94-2.06 2.06-.94-2.06-.94L8.5 2.5l-.94 2.06-2.06.94zm10 10l.94 2.06.94-2.06 2.06-.94-2.06-.94-.94-2.06-.94 2.06-2.06.94z\"/><path d=\"M17.41 7.96l-1.37-1.37c-.4-.4-.92-.59-1.43-.59-.52 0-1.04.2-1.43.59L10.3 9.45l-7.72 7.72c-.78.78-.78 2.05 0 2.83L4 21.41c.39.39.9.59 1.41.59.51 0 1.02-.2 1.41-.59l7.78-7.78 2.81-2.81c.8-.78.8-2.07 0-2.86zM5.41 20L4 18.59l7.72-7.72 1.47 1.35L5.41 20z\"/>\n",
              "  </svg>\n",
              "      </button>\n",
              "      \n",
              "  <style>\n",
              "    .colab-df-container {\n",
              "      display:flex;\n",
              "      flex-wrap:wrap;\n",
              "      gap: 12px;\n",
              "    }\n",
              "\n",
              "    .colab-df-convert {\n",
              "      background-color: #E8F0FE;\n",
              "      border: none;\n",
              "      border-radius: 50%;\n",
              "      cursor: pointer;\n",
              "      display: none;\n",
              "      fill: #1967D2;\n",
              "      height: 32px;\n",
              "      padding: 0 0 0 0;\n",
              "      width: 32px;\n",
              "    }\n",
              "\n",
              "    .colab-df-convert:hover {\n",
              "      background-color: #E2EBFA;\n",
              "      box-shadow: 0px 1px 2px rgba(60, 64, 67, 0.3), 0px 1px 3px 1px rgba(60, 64, 67, 0.15);\n",
              "      fill: #174EA6;\n",
              "    }\n",
              "\n",
              "    [theme=dark] .colab-df-convert {\n",
              "      background-color: #3B4455;\n",
              "      fill: #D2E3FC;\n",
              "    }\n",
              "\n",
              "    [theme=dark] .colab-df-convert:hover {\n",
              "      background-color: #434B5C;\n",
              "      box-shadow: 0px 1px 3px 1px rgba(0, 0, 0, 0.15);\n",
              "      filter: drop-shadow(0px 1px 2px rgba(0, 0, 0, 0.3));\n",
              "      fill: #FFFFFF;\n",
              "    }\n",
              "  </style>\n",
              "\n",
              "      <script>\n",
              "        const buttonEl =\n",
              "          document.querySelector('#df-0208c36d-7b05-497e-b89f-a025c9e16468 button.colab-df-convert');\n",
              "        buttonEl.style.display =\n",
              "          google.colab.kernel.accessAllowed ? 'block' : 'none';\n",
              "\n",
              "        async function convertToInteractive(key) {\n",
              "          const element = document.querySelector('#df-0208c36d-7b05-497e-b89f-a025c9e16468');\n",
              "          const dataTable =\n",
              "            await google.colab.kernel.invokeFunction('convertToInteractive',\n",
              "                                                     [key], {});\n",
              "          if (!dataTable) return;\n",
              "\n",
              "          const docLinkHtml = 'Like what you see? Visit the ' +\n",
              "            '<a target=\"_blank\" href=https://colab.research.google.com/notebooks/data_table.ipynb>data table notebook</a>'\n",
              "            + ' to learn more about interactive tables.';\n",
              "          element.innerHTML = '';\n",
              "          dataTable['output_type'] = 'display_data';\n",
              "          await google.colab.output.renderOutput(dataTable, element);\n",
              "          const docLink = document.createElement('div');\n",
              "          docLink.innerHTML = docLinkHtml;\n",
              "          element.appendChild(docLink);\n",
              "        }\n",
              "      </script>\n",
              "    </div>\n",
              "  </div>\n",
              "  "
            ]
          },
          "metadata": {},
          "execution_count": 83
        }
      ],
      "source": [
        "wine.corr()"
      ]
    },
    {
      "cell_type": "code",
      "source": [
        "wine.corr()[\"quality\"]"
      ],
      "metadata": {
        "colab": {
          "base_uri": "https://localhost:8080/"
        },
        "id": "4nvmGG7QpQxd",
        "outputId": "624a8b53-ff48-4e45-a5a0-ebf804e31fc3"
      },
      "execution_count": null,
      "outputs": [
        {
          "output_type": "execute_result",
          "data": {
            "text/plain": [
              "fixed acidity          -0.113663\n",
              "volatile acidity       -0.194723\n",
              "citric acid            -0.009209\n",
              "residual sugar         -0.097577\n",
              "chlorides              -0.209934\n",
              "free sulfur dioxide     0.008158\n",
              "total sulfur dioxide   -0.174737\n",
              "density                -0.307123\n",
              "pH                      0.099427\n",
              "sulphates               0.053678\n",
              "alcohol                 0.435575\n",
              "quality                 1.000000\n",
              "Name: quality, dtype: float64"
            ]
          },
          "metadata": {},
          "execution_count": 84
        }
      ]
    },
    {
      "cell_type": "code",
      "source": [
        "wine[\"quality\"].describe()"
      ],
      "metadata": {
        "colab": {
          "base_uri": "https://localhost:8080/"
        },
        "id": "UFDKOKpBhgtS",
        "outputId": "d624797c-34ab-47ad-e91e-acc9416ba354"
      },
      "execution_count": null,
      "outputs": [
        {
          "output_type": "execute_result",
          "data": {
            "text/plain": [
              "count    4898.000000\n",
              "mean        5.877909\n",
              "std         0.885639\n",
              "min         3.000000\n",
              "25%         5.000000\n",
              "50%         6.000000\n",
              "75%         6.000000\n",
              "max         9.000000\n",
              "Name: quality, dtype: float64"
            ]
          },
          "metadata": {},
          "execution_count": 85
        }
      ]
    },
    {
      "cell_type": "code",
      "source": [
        "sns.displot(wine['quality'])"
      ],
      "metadata": {
        "colab": {
          "base_uri": "https://localhost:8080/",
          "height": 386
        },
        "id": "6ubQSy1WJ5vN",
        "outputId": "8bd4fa2f-5304-4247-a438-c4c2bdd6302d"
      },
      "execution_count": null,
      "outputs": [
        {
          "output_type": "execute_result",
          "data": {
            "text/plain": [
              "<seaborn.axisgrid.FacetGrid at 0x7f164054e910>"
            ]
          },
          "metadata": {},
          "execution_count": 86
        },
        {
          "output_type": "display_data",
          "data": {
            "text/plain": [
              "<Figure size 360x360 with 1 Axes>"
            ],
            "image/png": "[encoded data removed]"
          },
          "metadata": {
            "needs_background": "light"
          }
        }
      ]
    },
    {
      "cell_type": "code",
      "source": [
        "sns.displot(wine['alcohol'])"
      ],
      "metadata": {
        "colab": {
          "base_uri": "https://localhost:8080/",
          "height": 386
        },
        "id": "P-abYwT7Kzl-",
        "outputId": "7b21ae64-f3e9-457c-fd9c-86fea0abe70e"
      },
      "execution_count": null,
      "outputs": [
        {
          "output_type": "execute_result",
          "data": {
            "text/plain": [
              "<seaborn.axisgrid.FacetGrid at 0x7f164051cbd0>"
            ]
          },
          "metadata": {},
          "execution_count": 87
        },
        {
          "output_type": "display_data",
          "data": {
            "text/plain": [
              "<Figure size 360x360 with 1 Axes>"
            ],
            "image/png": "[encoded data removed]"
          },
          "metadata": {
            "needs_background": "light"
          }
        }
      ]
    },
    {
      "cell_type": "markdown",
      "metadata": {
        "id": "8YQD0CbM3U9O"
      },
      "source": [
        "Train Test Split"
      ]
    },
    {
      "cell_type": "code",
      "execution_count": null,
      "metadata": {
        "id": "x5-LGbZTA-c9"
      },
      "outputs": [],
      "source": [
        "# dataset-wide split for flexibility\n",
        "class_train, class_test = train_test_split(wine, test_size=0.25, random_state=32) \n",
        "# Note: Put random_state=32 for any subsequent train_test_split for identical split result"
      ]
    },
    {
      "cell_type": "markdown",
      "metadata": {
        "id": "uOwN0WevjIkE"
      },
      "source": [
        "#Question 1\n",
        "\n",
        "\n",
        "Create a linear regression model to predict the alcohol level of each wine. \n",
        "    Use one part of the full data set as your training data to find the parameters of the model, and use the other part as test data to find the accuracy of the model. \n",
        "\n",
        "Use at least two different type of methods to find the parameters of your model. \n",
        "\n",
        "Hint: \n",
        "You will not need to use the quality variable for this model. \n",
        "You might want to use the train test What to submit splitfunction from scikit-learn to split your data set. \n",
        "\n",
        "• Write a brief description of your steps to create the model and your prediction. What did you do? Your description should include, but not limit to, answers to the following questions:\n",
        "\n",
        "    – What is the accuracy of your model on the training data? What is the accuracy on the test data?\n",
        "    – Is the model a good model? Why or why not?\n",
        "    – Any particular choices you made or had to make in creating model or prediction? Why did you make them? \n",
        "\n",
        "• Submit your Python code as part of your report (Jupyter Notebook) or if your code is in a separate .py file, identify it’s GitHub location in your report."
      ]
    },
    {
      "cell_type": "markdown",
      "metadata": {
        "id": "TZlpfATqoI1a"
      },
      "source": [
        "## Method 1 : Sklearn"
      ]
    },
    {
      "cell_type": "markdown",
      "source": [
        "#### Dropping the quality variable"
      ],
      "metadata": {
        "id": "urdFuuEljQ4b"
      }
    },
    {
      "cell_type": "code",
      "execution_count": null,
      "metadata": {
        "id": "RXxNwGbjJAE8"
      },
      "outputs": [],
      "source": [
        "# Train-test split (same random_state so same split result)\n",
        "X = wine.drop(['alcohol', 'quality'], axis=1)\n",
        "X_train, X_test, y_train, y_test = train_test_split(X, wine.alcohol, train_size=0.75, random_state=32)"
      ]
    },
    {
      "cell_type": "markdown",
      "source": [
        "#### Initializing and implementing Linear Regression"
      ],
      "metadata": {
        "id": "BJk2clqBjaGa"
      }
    },
    {
      "cell_type": "code",
      "execution_count": null,
      "metadata": {
        "id": "QyQYPl0uAe6g"
      },
      "outputs": [],
      "source": [
        "# Initialize pipeline to use standard scaler\n",
        "lin_reg = Pipeline([\n",
        "    ('scaler', StandardScaler()),\n",
        "    ('linreg', LinearRegression())\n",
        "])\n",
        "\n",
        "# Train\n",
        "lin_reg.fit(X_train, y_train);"
      ]
    },
    {
      "cell_type": "code",
      "execution_count": null,
      "metadata": {
        "id": "LOkscp7cjPZF"
      },
      "outputs": [],
      "source": [
        "# Extract coefficients and intercepts\n",
        "parameters = lin_reg['linreg'].coef_\n",
        "intercept = lin_reg['linreg'].intercept_"
      ]
    },
    {
      "cell_type": "markdown",
      "source": [
        "#### Visualizing for a better understanding of the parameter\n"
      ],
      "metadata": {
        "id": "8eUDHV43p6FX"
      }
    },
    {
      "cell_type": "code",
      "source": [
        "# Plotting coefficients\n",
        "p = sns.barplot(x=X.columns, y=(parameters), hue=parameters < 0, dodge=False)\n",
        "p.legend_.remove()\n",
        "plt.axhline(0)\n",
        "plt.yscale('symlog')\n",
        "plt.ylabel(\"Coefficients\")\n",
        "# plt.ylim(min(parameters), max(parameters))\n",
        "plt.xticks(rotation=90)\n",
        "plt.title(\"Feature Importance in Unregularised Linear Regression \\n(Predicting Alcohol)\")\n",
        "plt.show();\n",
        "\n",
        "# Print coefficients\n",
        "print(\"parameters:\", parameters)\n",
        "print(\"intercept:\", intercept)"
      ],
      "metadata": {
        "colab": {
          "base_uri": "https://localhost:8080/",
          "height": 452
        },
        "id": "NFa3cb97pyKb",
        "outputId": "3d668e28-b8df-4770-9f72-8519039548a5"
      },
      "execution_count": null,
      "outputs": [
        {
          "output_type": "display_data",
          "data": {
            "text/plain": [
              "<Figure size 432x288 with 1 Axes>"
            ],
            "image/png": "[encoded data removed]"
          },
          "metadata": {
            "needs_background": "light"
          }
        },
        {
          "output_type": "stream",
          "name": "stdout",
          "text": [
            "parameters: [ 0.43041267  0.09064553  0.04950321  1.21878255 -0.0060989  -0.06444636\n",
            "  0.02350123 -2.06374008  0.35827292  0.11403941]\n",
            "intercept: 10.511544604773594\n"
          ]
        }
      ]
    },
    {
      "cell_type": "markdown",
      "source": [
        "From the Graph above we now know that Residual suger, pH and fixed acidity have positive correaltion to alcohol."
      ],
      "metadata": {
        "id": "TlVxKOahqPjs"
      }
    },
    {
      "cell_type": "code",
      "source": [],
      "metadata": {
        "id": "h1Bt2X0RSnCp"
      },
      "execution_count": null,
      "outputs": []
    },
    {
      "cell_type": "markdown",
      "source": [
        "#### Testing the accuracy"
      ],
      "metadata": {
        "id": "8xO3OKKvwaea"
      }
    },
    {
      "cell_type": "code",
      "execution_count": null,
      "metadata": {
        "colab": {
          "base_uri": "https://localhost:8080/"
        },
        "id": "3JkiyDYLjoqZ",
        "outputId": "9765ccea-b6af-43a6-a59a-7e6c2b0dafff"
      },
      "outputs": [
        {
          "output_type": "stream",
          "name": "stdout",
          "text": [
            "Train Score: 0.8607278839110443\n",
            "Test Score:  0.897395875945502\n"
          ]
        }
      ],
      "source": [
        "# Evaluate test R2 score\n",
        "test_score = lin_reg.score(X_test, y_test)\n",
        "train_score = lin_reg.score(X_train, y_train)\n",
        "print(\"Train Score:\", train_score)\n",
        "print(\"Test Score: \",test_score)\n",
        "\n"
      ]
    },
    {
      "cell_type": "markdown",
      "source": [
        "\n",
        "### What is the accuracy of your model on the training data? What is the accuracy on the test data?\n",
        "\n",
        "According to accuracy report:\n",
        "- The training accuracy is 86.0%.\n",
        "- The testing accuracy is 89.7%.\n"
      ],
      "metadata": {
        "id": "RaEt152vwZoe"
      }
    },
    {
      "cell_type": "code",
      "execution_count": null,
      "metadata": {
        "colab": {
          "base_uri": "https://localhost:8080/",
          "height": 206
        },
        "id": "fJ8MTE2xlCqI",
        "outputId": "b63b014e-a4a3-4c39-c93a-3dfdb3fd87a1"
      },
      "outputs": [
        {
          "output_type": "execute_result",
          "data": {
            "text/plain": [
              "      actual  prediction\n",
              "4612     9.8    9.796376\n",
              "1067    11.1   10.831201\n",
              "231      9.6    9.564719\n",
              "412     10.5   10.843449\n",
              "2350    10.0    9.754895"
            ],
            "text/html": [
              "\n",
              "  <div id=\"df-69dafefd-a215-495f-bcc3-1db6fa491071\">\n",
              "    <div class=\"colab-df-container\">\n",
              "      <div>\n",
              "<style scoped>\n",
              "    .dataframe tbody tr th:only-of-type {\n",
              "        vertical-align: middle;\n",
              "    }\n",
              "\n",
              "    .dataframe tbody tr th {\n",
              "        vertical-align: top;\n",
              "    }\n",
              "\n",
              "    .dataframe thead th {\n",
              "        text-align: right;\n",
              "    }\n",
              "</style>\n",
              "<table border=\"1\" class=\"dataframe\">\n",
              "  <thead>\n",
              "    <tr style=\"text-align: right;\">\n",
              "      <th></th>\n",
              "      <th>actual</th>\n",
              "      <th>prediction</th>\n",
              "    </tr>\n",
              "  </thead>\n",
              "  <tbody>\n",
              "    <tr>\n",
              "      <th>4612</th>\n",
              "      <td>9.8</td>\n",
              "      <td>9.796376</td>\n",
              "    </tr>\n",
              "    <tr>\n",
              "      <th>1067</th>\n",
              "      <td>11.1</td>\n",
              "      <td>10.831201</td>\n",
              "    </tr>\n",
              "    <tr>\n",
              "      <th>231</th>\n",
              "      <td>9.6</td>\n",
              "      <td>9.564719</td>\n",
              "    </tr>\n",
              "    <tr>\n",
              "      <th>412</th>\n",
              "      <td>10.5</td>\n",
              "      <td>10.843449</td>\n",
              "    </tr>\n",
              "    <tr>\n",
              "      <th>2350</th>\n",
              "      <td>10.0</td>\n",
              "      <td>9.754895</td>\n",
              "    </tr>\n",
              "  </tbody>\n",
              "</table>\n",
              "</div>\n",
              "      <button class=\"colab-df-convert\" onclick=\"convertToInteractive('df-69dafefd-a215-495f-bcc3-1db6fa491071')\"\n",
              "              title=\"Convert this dataframe to an interactive table.\"\n",
              "              style=\"display:none;\">\n",
              "        \n",
              "  <svg xmlns=\"http://www.w3.org/2000/svg\" height=\"24px\"viewBox=\"0 0 24 24\"\n",
              "       width=\"24px\">\n",
              "    <path d=\"M0 0h24v24H0V0z\" fill=\"none\"/>\n",
              "    <path d=\"M18.56 5.44l.94 2.06.94-2.06 2.06-.94-2.06-.94-.94-2.06-.94 2.06-2.06.94zm-11 1L8.5 8.5l.94-2.06 2.06-.94-2.06-.94L8.5 2.5l-.94 2.06-2.06.94zm10 10l.94 2.06.94-2.06 2.06-.94-2.06-.94-.94-2.06-.94 2.06-2.06.94z\"/><path d=\"M17.41 7.96l-1.37-1.37c-.4-.4-.92-.59-1.43-.59-.52 0-1.04.2-1.43.59L10.3 9.45l-7.72 7.72c-.78.78-.78 2.05 0 2.83L4 21.41c.39.39.9.59 1.41.59.51 0 1.02-.2 1.41-.59l7.78-7.78 2.81-2.81c.8-.78.8-2.07 0-2.86zM5.41 20L4 18.59l7.72-7.72 1.47 1.35L5.41 20z\"/>\n",
              "  </svg>\n",
              "      </button>\n",
              "      \n",
              "  <style>\n",
              "    .colab-df-container {\n",
              "      display:flex;\n",
              "      flex-wrap:wrap;\n",
              "      gap: 12px;\n",
              "    }\n",
              "\n",
              "    .colab-df-convert {\n",
              "      background-color: #E8F0FE;\n",
              "      border: none;\n",
              "      border-radius: 50%;\n",
              "      cursor: pointer;\n",
              "      display: none;\n",
              "      fill: #1967D2;\n",
              "      height: 32px;\n",
              "      padding: 0 0 0 0;\n",
              "      width: 32px;\n",
              "    }\n",
              "\n",
              "    .colab-df-convert:hover {\n",
              "      background-color: #E2EBFA;\n",
              "      box-shadow: 0px 1px 2px rgba(60, 64, 67, 0.3), 0px 1px 3px 1px rgba(60, 64, 67, 0.15);\n",
              "      fill: #174EA6;\n",
              "    }\n",
              "\n",
              "    [theme=dark] .colab-df-convert {\n",
              "      background-color: #3B4455;\n",
              "      fill: #D2E3FC;\n",
              "    }\n",
              "\n",
              "    [theme=dark] .colab-df-convert:hover {\n",
              "      background-color: #434B5C;\n",
              "      box-shadow: 0px 1px 3px 1px rgba(0, 0, 0, 0.15);\n",
              "      filter: drop-shadow(0px 1px 2px rgba(0, 0, 0, 0.3));\n",
              "      fill: #FFFFFF;\n",
              "    }\n",
              "  </style>\n",
              "\n",
              "      <script>\n",
              "        const buttonEl =\n",
              "          document.querySelector('#df-69dafefd-a215-495f-bcc3-1db6fa491071 button.colab-df-convert');\n",
              "        buttonEl.style.display =\n",
              "          google.colab.kernel.accessAllowed ? 'block' : 'none';\n",
              "\n",
              "        async function convertToInteractive(key) {\n",
              "          const element = document.querySelector('#df-69dafefd-a215-495f-bcc3-1db6fa491071');\n",
              "          const dataTable =\n",
              "            await google.colab.kernel.invokeFunction('convertToInteractive',\n",
              "                                                     [key], {});\n",
              "          if (!dataTable) return;\n",
              "\n",
              "          const docLinkHtml = 'Like what you see? Visit the ' +\n",
              "            '<a target=\"_blank\" href=https://colab.research.google.com/notebooks/data_table.ipynb>data table notebook</a>'\n",
              "            + ' to learn more about interactive tables.';\n",
              "          element.innerHTML = '';\n",
              "          dataTable['output_type'] = 'display_data';\n",
              "          await google.colab.output.renderOutput(dataTable, element);\n",
              "          const docLink = document.createElement('div');\n",
              "          docLink.innerHTML = docLinkHtml;\n",
              "          element.appendChild(docLink);\n",
              "        }\n",
              "      </script>\n",
              "    </div>\n",
              "  </div>\n",
              "  "
            ]
          },
          "metadata": {},
          "execution_count": 94
        }
      ],
      "source": [
        "y_prediction = lin_reg.predict(X_test)\n",
        "metrics_11=pd.DataFrame({\"actual\":y_test, \"prediction\":y_prediction})\n",
        "metrics_11.head()"
      ]
    },
    {
      "cell_type": "code",
      "source": [
        "sns.displot(round(metrics_11.iloc[:,0],0))"
      ],
      "metadata": {
        "colab": {
          "base_uri": "https://localhost:8080/",
          "height": 386
        },
        "id": "GDiHEr1VLb7Z",
        "outputId": "a5334ed2-7d07-497e-c9c5-cc8d4f6e31f9"
      },
      "execution_count": null,
      "outputs": [
        {
          "output_type": "execute_result",
          "data": {
            "text/plain": [
              "<seaborn.axisgrid.FacetGrid at 0x7f164090bb50>"
            ]
          },
          "metadata": {},
          "execution_count": 95
        },
        {
          "output_type": "display_data",
          "data": {
            "text/plain": [
              "<Figure size 360x360 with 1 Axes>"
            ],
            "image/png": "[encoded data removed]"
          },
          "metadata": {
            "needs_background": "light"
          }
        }
      ]
    },
    {
      "cell_type": "code",
      "source": [
        "sns.displot(round(metrics_11.iloc[:,1],0))\n"
      ],
      "metadata": {
        "colab": {
          "base_uri": "https://localhost:8080/",
          "height": 386
        },
        "id": "F03r9i-EPWfn",
        "outputId": "f40731d5-7a81-4a6b-b08d-d03282259bb0"
      },
      "execution_count": null,
      "outputs": [
        {
          "output_type": "execute_result",
          "data": {
            "text/plain": [
              "<seaborn.axisgrid.FacetGrid at 0x7f1642312ad0>"
            ]
          },
          "metadata": {},
          "execution_count": 96
        },
        {
          "output_type": "display_data",
          "data": {
            "text/plain": [
              "<Figure size 360x360 with 1 Axes>"
            ],
            "image/png": "[encoded data removed]"
          },
          "metadata": {
            "needs_background": "light"
          }
        }
      ]
    },
    {
      "cell_type": "code",
      "source": [
        "sns.regplot(x=y_test,y=y_prediction,marker=\"+\",color=\"red\")"
      ],
      "metadata": {
        "colab": {
          "base_uri": "https://localhost:8080/",
          "height": 296
        },
        "id": "-_mk9OPo_hTZ",
        "outputId": "f0c5d66e-2f13-4f43-c112-6fddf4229bde"
      },
      "execution_count": null,
      "outputs": [
        {
          "output_type": "execute_result",
          "data": {
            "text/plain": [
              "<matplotlib.axes._subplots.AxesSubplot at 0x7f16401eb490>"
            ]
          },
          "metadata": {},
          "execution_count": 97
        },
        {
          "output_type": "display_data",
          "data": {
            "text/plain": [
              "<Figure size 432x288 with 1 Axes>"
            ],
            "image/png": "[encoded data removed]"
          },
          "metadata": {
            "needs_background": "light"
          }
        }
      ]
    },
    {
      "cell_type": "code",
      "execution_count": null,
      "metadata": {
        "colab": {
          "base_uri": "https://localhost:8080/"
        },
        "id": "npx65ad3LD3V",
        "outputId": "6cf767ce-3c56-4643-be25-67d0a59cfc10"
      },
      "outputs": [
        {
          "output_type": "execute_result",
          "data": {
            "text/plain": [
              "0.15705399686902294"
            ]
          },
          "metadata": {},
          "execution_count": 98
        }
      ],
      "source": [
        "# Evaluate training/test MSE score\n",
        "mean_squared_error(y_test, y_prediction)"
      ]
    },
    {
      "cell_type": "code",
      "execution_count": null,
      "metadata": {
        "colab": {
          "base_uri": "https://localhost:8080/"
        },
        "id": "FEUkI34tLK4P",
        "outputId": "b912fd5e-0de2-4a9b-a054-1883214b0ef7"
      },
      "outputs": [
        {
          "output_type": "execute_result",
          "data": {
            "text/plain": [
              "0.2101009956860673"
            ]
          },
          "metadata": {},
          "execution_count": 99
        }
      ],
      "source": [
        "mean_squared_error(y_train, lin_reg.predict(X_train))"
      ]
    },
    {
      "cell_type": "code",
      "source": [
        "reg_evalute(y_test,y_prediction)"
      ],
      "metadata": {
        "colab": {
          "base_uri": "https://localhost:8080/"
        },
        "id": "jMFoK9_YLaPq",
        "outputId": "eaebaa91-36e7-4663-c44a-4ec3ce6e84db"
      },
      "execution_count": null,
      "outputs": [
        {
          "output_type": "stream",
          "name": "stdout",
          "text": [
            "The Mean Absolute error is : 0.3015\n",
            "The Mean Squared Error is: 0.1571\n",
            "The Root Mean Squared Error is: 0.3964\n",
            "The R Square is: 0.8974\n"
          ]
        },
        {
          "output_type": "execute_result",
          "data": {
            "text/plain": [
              "(0.3015, 0.1571, 0.3964, 0.8974)"
            ]
          },
          "metadata": {},
          "execution_count": 100
        }
      ]
    },
    {
      "cell_type": "code",
      "source": [
        "regression_table=pd.DataFrame(columns=['Name','MAE','MSE','RMSE','Rsq'])\n",
        "print(regression_table)\n",
        "regression_table.loc[\"1\"]=['sklearn_test',reg_evalute(y_test,y_prediction)[0],reg_evalute(y_test,y_prediction)[1],reg_evalute(y_test,y_prediction)[2],reg_evalute(y_test,y_prediction)[3]]\n",
        "regression_table"
      ],
      "metadata": {
        "id": "m8eMs4B6McKY",
        "colab": {
          "base_uri": "https://localhost:8080/",
          "height": 411
        },
        "outputId": "f7be0c3b-39c4-415f-ab33-5e6cc699fd07"
      },
      "execution_count": null,
      "outputs": [
        {
          "output_type": "stream",
          "name": "stdout",
          "text": [
            "Empty DataFrame\n",
            "Columns: [Name, MAE, MSE, RMSE, Rsq]\n",
            "Index: []\n",
            "The Mean Absolute error is : 0.3015\n",
            "The Mean Squared Error is: 0.1571\n",
            "The Root Mean Squared Error is: 0.3964\n",
            "The R Square is: 0.8974\n",
            "The Mean Absolute error is : 0.3015\n",
            "The Mean Squared Error is: 0.1571\n",
            "The Root Mean Squared Error is: 0.3964\n",
            "The R Square is: 0.8974\n",
            "The Mean Absolute error is : 0.3015\n",
            "The Mean Squared Error is: 0.1571\n",
            "The Root Mean Squared Error is: 0.3964\n",
            "The R Square is: 0.8974\n",
            "The Mean Absolute error is : 0.3015\n",
            "The Mean Squared Error is: 0.1571\n",
            "The Root Mean Squared Error is: 0.3964\n",
            "The R Square is: 0.8974\n"
          ]
        },
        {
          "output_type": "execute_result",
          "data": {
            "text/plain": [
              "           Name     MAE     MSE    RMSE     Rsq\n",
              "1  sklearn_test  0.3015  0.1571  0.3964  0.8974"
            ],
            "text/html": [
              "\n",
              "  <div id=\"df-910e2694-e37f-4100-9aaf-c993ef2401fe\">\n",
              "    <div class=\"colab-df-container\">\n",
              "      <div>\n",
              "<style scoped>\n",
              "    .dataframe tbody tr th:only-of-type {\n",
              "        vertical-align: middle;\n",
              "    }\n",
              "\n",
              "    .dataframe tbody tr th {\n",
              "        vertical-align: top;\n",
              "    }\n",
              "\n",
              "    .dataframe thead th {\n",
              "        text-align: right;\n",
              "    }\n",
              "</style>\n",
              "<table border=\"1\" class=\"dataframe\">\n",
              "  <thead>\n",
              "    <tr style=\"text-align: right;\">\n",
              "      <th></th>\n",
              "      <th>Name</th>\n",
              "      <th>MAE</th>\n",
              "      <th>MSE</th>\n",
              "      <th>RMSE</th>\n",
              "      <th>Rsq</th>\n",
              "    </tr>\n",
              "  </thead>\n",
              "  <tbody>\n",
              "    <tr>\n",
              "      <th>1</th>\n",
              "      <td>sklearn_test</td>\n",
              "      <td>0.3015</td>\n",
              "      <td>0.1571</td>\n",
              "      <td>0.3964</td>\n",
              "      <td>0.8974</td>\n",
              "    </tr>\n",
              "  </tbody>\n",
              "</table>\n",
              "</div>\n",
              "      <button class=\"colab-df-convert\" onclick=\"convertToInteractive('df-910e2694-e37f-4100-9aaf-c993ef2401fe')\"\n",
              "              title=\"Convert this dataframe to an interactive table.\"\n",
              "              style=\"display:none;\">\n",
              "        \n",
              "  <svg xmlns=\"http://www.w3.org/2000/svg\" height=\"24px\"viewBox=\"0 0 24 24\"\n",
              "       width=\"24px\">\n",
              "    <path d=\"M0 0h24v24H0V0z\" fill=\"none\"/>\n",
              "    <path d=\"M18.56 5.44l.94 2.06.94-2.06 2.06-.94-2.06-.94-.94-2.06-.94 2.06-2.06.94zm-11 1L8.5 8.5l.94-2.06 2.06-.94-2.06-.94L8.5 2.5l-.94 2.06-2.06.94zm10 10l.94 2.06.94-2.06 2.06-.94-2.06-.94-.94-2.06-.94 2.06-2.06.94z\"/><path d=\"M17.41 7.96l-1.37-1.37c-.4-.4-.92-.59-1.43-.59-.52 0-1.04.2-1.43.59L10.3 9.45l-7.72 7.72c-.78.78-.78 2.05 0 2.83L4 21.41c.39.39.9.59 1.41.59.51 0 1.02-.2 1.41-.59l7.78-7.78 2.81-2.81c.8-.78.8-2.07 0-2.86zM5.41 20L4 18.59l7.72-7.72 1.47 1.35L5.41 20z\"/>\n",
              "  </svg>\n",
              "      </button>\n",
              "      \n",
              "  <style>\n",
              "    .colab-df-container {\n",
              "      display:flex;\n",
              "      flex-wrap:wrap;\n",
              "      gap: 12px;\n",
              "    }\n",
              "\n",
              "    .colab-df-convert {\n",
              "      background-color: #E8F0FE;\n",
              "      border: none;\n",
              "      border-radius: 50%;\n",
              "      cursor: pointer;\n",
              "      display: none;\n",
              "      fill: #1967D2;\n",
              "      height: 32px;\n",
              "      padding: 0 0 0 0;\n",
              "      width: 32px;\n",
              "    }\n",
              "\n",
              "    .colab-df-convert:hover {\n",
              "      background-color: #E2EBFA;\n",
              "      box-shadow: 0px 1px 2px rgba(60, 64, 67, 0.3), 0px 1px 3px 1px rgba(60, 64, 67, 0.15);\n",
              "      fill: #174EA6;\n",
              "    }\n",
              "\n",
              "    [theme=dark] .colab-df-convert {\n",
              "      background-color: #3B4455;\n",
              "      fill: #D2E3FC;\n",
              "    }\n",
              "\n",
              "    [theme=dark] .colab-df-convert:hover {\n",
              "      background-color: #434B5C;\n",
              "      box-shadow: 0px 1px 3px 1px rgba(0, 0, 0, 0.15);\n",
              "      filter: drop-shadow(0px 1px 2px rgba(0, 0, 0, 0.3));\n",
              "      fill: #FFFFFF;\n",
              "    }\n",
              "  </style>\n",
              "\n",
              "      <script>\n",
              "        const buttonEl =\n",
              "          document.querySelector('#df-910e2694-e37f-4100-9aaf-c993ef2401fe button.colab-df-convert');\n",
              "        buttonEl.style.display =\n",
              "          google.colab.kernel.accessAllowed ? 'block' : 'none';\n",
              "\n",
              "        async function convertToInteractive(key) {\n",
              "          const element = document.querySelector('#df-910e2694-e37f-4100-9aaf-c993ef2401fe');\n",
              "          const dataTable =\n",
              "            await google.colab.kernel.invokeFunction('convertToInteractive',\n",
              "                                                     [key], {});\n",
              "          if (!dataTable) return;\n",
              "\n",
              "          const docLinkHtml = 'Like what you see? Visit the ' +\n",
              "            '<a target=\"_blank\" href=https://colab.research.google.com/notebooks/data_table.ipynb>data table notebook</a>'\n",
              "            + ' to learn more about interactive tables.';\n",
              "          element.innerHTML = '';\n",
              "          dataTable['output_type'] = 'display_data';\n",
              "          await google.colab.output.renderOutput(dataTable, element);\n",
              "          const docLink = document.createElement('div');\n",
              "          docLink.innerHTML = docLinkHtml;\n",
              "          element.appendChild(docLink);\n",
              "        }\n",
              "      </script>\n",
              "    </div>\n",
              "  </div>\n",
              "  "
            ]
          },
          "metadata": {},
          "execution_count": 101
        }
      ]
    },
    {
      "cell_type": "markdown",
      "source": [
        "\n",
        "### Is the model a good model? Why or why not?\n",
        "\n",
        "With the mean squared error being 0.15, this means the value is closer to zero. It means that the model has a better quality of the estimator/predictor.\n",
        "Thus making the model an optimal model.\n",
        "\n",
        "### Any particular choices you made or had to make in creating model or prediction? Why did you make them?\n",
        "\n",
        "No changes were made to the parameters during the model creation.\n",
        "\n"
      ],
      "metadata": {
        "id": "AVw3XERGZt3Y"
      }
    },
    {
      "cell_type": "markdown",
      "metadata": {
        "id": "1C9jyv_UoR0O"
      },
      "source": [
        "## Method 2 : gradient descent"
      ]
    },
    {
      "cell_type": "code",
      "execution_count": null,
      "metadata": {
        "id": "MlPMWOH6okSx"
      },
      "outputs": [],
      "source": [
        "#standardise the data\n",
        "# from sklearn.preprocessing import StandardScaler\n",
        "sc = StandardScaler()\n",
        "\n",
        "# Only fit scaler to training data\n",
        "X_transform = sc.fit_transform(X_train) # fit and return transformed values at the same time\n",
        "\n",
        "# Append 1's to first column of X (for intercept)\n",
        "X_ones = np.c_[np.ones((X_transform.shape[0], )), X_transform]\n"
      ]
    },
    {
      "cell_type": "markdown",
      "source": [
        "MSE Gradient:\n",
        "\n",
        "$\\nabla MSE = \\frac{2}{N}*X^Τ ⋅ (X ⋅ w - y)$\n",
        "\n",
        "Weight update algorithm:\n",
        "\n",
        "$ w = w - η * ∇ MSE $"
      ],
      "metadata": {
        "id": "ulswYoWy3eSQ"
      }
    },
    {
      "cell_type": "code",
      "execution_count": null,
      "metadata": {
        "id": "uK9-TqlEuDfN"
      },
      "outputs": [],
      "source": [
        "## Helper Functions\n",
        "# Calculate MSE loss\n",
        "def loss_func(y,y_predicted):\n",
        "  return ((y - y_predicted)**2).mean()\n",
        "\n",
        "# Calculates yhat\n",
        "def predict_y(weight,X):\n",
        "  return X @ weight\n",
        "\n",
        "# Calculates MSE gradient\n",
        "def mse_gradient(X,y,y_predicted):\n",
        "  n = X.shape[0]\n",
        "  return (2/n) * X.T @ (y_predicted - y)\n",
        "\n",
        "# Function for predicting new test data (include transformation by supplier fitted StandardScaler())\n",
        "def predict(inputs, transformer, weights):\n",
        "\n",
        "  inputs_transform = transformer.transform(inputs)\n",
        "  inputs_ones = np.c_[np.ones((inputs_transform.shape[0], )), inputs_transform]\n",
        "\n",
        "  return inputs_ones @ weights"
      ]
    },
    {
      "cell_type": "code",
      "execution_count": null,
      "metadata": {
        "id": "V4w2YdGvvjwV"
      },
      "outputs": [],
      "source": [
        "# gradient function\n",
        "def gradient_descent(X,y, epoch = 2000, learning_rate = 0.01, tol=None):\n",
        "    weight_vector = np.random.randn(X.shape[1])\n",
        "\n",
        "    for i in range(int(epoch)):\n",
        "        y_predicted = predict_y(weight_vector, X)\n",
        "        weight_vector = weight_vector - learning_rate * mse_gradient(X,y,y_predicted) \n",
        "        loss = loss_func(y, y_predicted)\n",
        "        if tol: \n",
        "          if loss < tol:\n",
        "            print(f\"Loss reached {loss} which is lower than threshold {tol}\")\n",
        "            break\n",
        "\n",
        "    print(f\"Total number of iterations done: {i}\")\n",
        "    return weight_vector"
      ]
    },
    {
      "cell_type": "code",
      "execution_count": null,
      "metadata": {
        "colab": {
          "base_uri": "https://localhost:8080/"
        },
        "id": "TZ5G2UdBxIIa",
        "outputId": "80924c45-d177-4e16-8396-9eef5ae47912"
      },
      "outputs": [
        {
          "output_type": "stream",
          "name": "stdout",
          "text": [
            "Total number of iterations done: 199\n"
          ]
        }
      ],
      "source": [
        "# Begin optimization\n",
        "# Higher learning rate leads to faster convergence for this example, so only a few number of iterations is required\n",
        "w = gradient_descent(X_ones, y_train, tol=1e-4, epoch=200, learning_rate=0.1)"
      ]
    },
    {
      "cell_type": "code",
      "execution_count": null,
      "metadata": {
        "colab": {
          "base_uri": "https://localhost:8080/"
        },
        "id": "n4YmmkkXyd2N",
        "outputId": "675f4b13-92cd-4c3f-fc7c-ace497f66394"
      },
      "outputs": [
        {
          "output_type": "stream",
          "name": "stdout",
          "text": [
            "[ 1.05115446e+01  4.24481052e-01  9.21432716e-02  5.02314723e-02\n",
            "  1.19955303e+00 -9.97702721e-03 -6.17664375e-02  1.87207522e-02\n",
            " -2.04186063e+00  3.53662482e-01  1.12951636e-01]\n"
          ]
        }
      ],
      "source": [
        "# Weights obtained from GD\n",
        "print(w)"
      ]
    },
    {
      "cell_type": "code",
      "execution_count": null,
      "metadata": {
        "colab": {
          "base_uri": "https://localhost:8080/"
        },
        "id": "Qac1ASwQw-Id",
        "outputId": "71861565-9e46-4433-903a-09e56183165b"
      },
      "outputs": [
        {
          "output_type": "stream",
          "name": "stdout",
          "text": [
            "[ 1.05115446e+01  4.30412667e-01  9.06455346e-02  4.95032073e-02\n",
            "  1.21878255e+00 -6.09890408e-03 -6.44463607e-02  2.35012327e-02\n",
            " -2.06374008e+00  3.58272922e-01  1.14039411e-01]\n"
          ]
        }
      ],
      "source": [
        "# Comparison\n",
        "# Weights obtained from sklearn.LinearRegression()\n",
        "w_sk = np.insert(parameters, 0, intercept)\n",
        "print(w_sk)"
      ]
    },
    {
      "cell_type": "code",
      "execution_count": null,
      "metadata": {
        "colab": {
          "base_uri": "https://localhost:8080/"
        },
        "id": "RJCh89EhJVSo",
        "outputId": "96971c86-1382-41b1-8396-9b2a3018de39"
      },
      "outputs": [
        {
          "output_type": "execute_result",
          "data": {
            "text/plain": [
              "array([ 9.80659101, 10.83253809,  9.56572671, ..., 12.92068945,\n",
              "       11.58654132,  8.83439385])"
            ]
          },
          "metadata": {},
          "execution_count": 108
        }
      ],
      "source": [
        "# Test evaluation\n",
        "predict(X_test, sc, w)"
      ]
    },
    {
      "cell_type": "markdown",
      "source": [
        "#### Evaluating the gradient descent model"
      ],
      "metadata": {
        "id": "R-IPPTG8E3lT"
      }
    },
    {
      "cell_type": "code",
      "execution_count": null,
      "metadata": {
        "colab": {
          "base_uri": "https://localhost:8080/"
        },
        "id": "HoemDI3KJueF",
        "outputId": "888717c9-22e8-4538-db8b-f4e922a382b9"
      },
      "outputs": [
        {
          "output_type": "execute_result",
          "data": {
            "text/plain": [
              "0.2101860489519867"
            ]
          },
          "metadata": {},
          "execution_count": 109
        }
      ],
      "source": [
        "# Training loss (MSE)\n",
        "loss_func(y_train, predict(X_train, sc, w))"
      ]
    },
    {
      "cell_type": "code",
      "execution_count": null,
      "metadata": {
        "colab": {
          "base_uri": "https://localhost:8080/"
        },
        "id": "-1-80ahUKaGu",
        "outputId": "9a31f2d4-b5a0-434b-a5b2-fe394f1971c1"
      },
      "outputs": [
        {
          "output_type": "execute_result",
          "data": {
            "text/plain": [
              "0.15778466457774135"
            ]
          },
          "metadata": {},
          "execution_count": 110
        }
      ],
      "source": [
        "# Test data Loss (MSE)\n",
        "loss_func(y_test, predict(X_test, sc, w))"
      ]
    },
    {
      "cell_type": "markdown",
      "source": [
        "### What is the accuracy of your model on the training data? What is the accuracy of the test data? \n",
        "\n",
        "Mean squared error is 0.15705399686902294.\n",
        "\n",
        "### Is the model a good model? Why or why not? \n",
        "\n",
        "With the mean squared error being 0.15, this means the value is closer to zero. It means that the model has a better quality of the estimator/predictor.\n",
        "\n",
        "\n",
        "### Any particular choices you made or had to make in creating a model or prediction? Why did you make them? \n",
        "\n",
        "No changes were made to the parameters during the model creation."
      ],
      "metadata": {
        "id": "U4-k_9EOIBTU"
      }
    },
    {
      "cell_type": "code",
      "source": [
        "metrics_12=pd.DataFrame({\"actual\":y_test, \"prediction\":y_prediction})\n",
        "metrics_12.head()\n",
        "\n",
        "sns.displot(round(metrics_12.iloc[:,0],0))\n",
        "sns.displot(round(metrics_12.iloc[:,1],0))\n",
        "\n"
      ],
      "metadata": {
        "colab": {
          "base_uri": "https://localhost:8080/",
          "height": 738
        },
        "id": "bwuK1fHfdK2o",
        "outputId": "6c4ed278-500e-482b-fd5c-9a13a3d98254"
      },
      "execution_count": null,
      "outputs": [
        {
          "output_type": "execute_result",
          "data": {
            "text/plain": [
              "<seaborn.axisgrid.FacetGrid at 0x7f164013f650>"
            ]
          },
          "metadata": {},
          "execution_count": 111
        },
        {
          "output_type": "display_data",
          "data": {
            "text/plain": [
              "<Figure size 360x360 with 1 Axes>"
            ],
            "image/png": "[encoded data removed]"
          },
          "metadata": {
            "needs_background": "light"
          }
        },
        {
          "output_type": "display_data",
          "data": {
            "text/plain": [
              "<Figure size 360x360 with 1 Axes>"
            ],
            "image/png": "[encoded data removed]"
          },
          "metadata": {
            "needs_background": "light"
          }
        }
      ]
    },
    {
      "cell_type": "code",
      "source": [
        "sns.regplot(x=y_test,y=y_prediction,marker=\"+\",color=\"red\")"
      ],
      "metadata": {
        "colab": {
          "base_uri": "https://localhost:8080/",
          "height": 296
        },
        "id": "I_TSjClpdefQ",
        "outputId": "53b1bfe4-312c-4e82-ec07-2492238e481a"
      },
      "execution_count": null,
      "outputs": [
        {
          "output_type": "execute_result",
          "data": {
            "text/plain": [
              "<matplotlib.axes._subplots.AxesSubplot at 0x7f163ffc7250>"
            ]
          },
          "metadata": {},
          "execution_count": 112
        },
        {
          "output_type": "display_data",
          "data": {
            "text/plain": [
              "<Figure size 432x288 with 1 Axes>"
            ],
            "image/png": "[encoded data removed]"
          },
          "metadata": {
            "needs_background": "light"
          }
        }
      ]
    },
    {
      "cell_type": "markdown",
      "metadata": {
        "id": "cRjk0BaKiW4i"
      },
      "source": [
        "# Question 2  \n",
        "###Sina Ehtejab\n"
      ]
    },
    {
      "cell_type": "markdown",
      "source": [
        "#### A description of what you did to preprocess the data.\n",
        "\n",
        "#### What alternative options for preprocessing did you consider (if any)?\n",
        "\n"
      ],
      "metadata": {
        "id": "H1ihq6JGOXzu"
      }
    },
    {
      "cell_type": "markdown",
      "source": [
        "## Binary Classification - Pre processing "
      ],
      "metadata": {
        "id": "Ydg7XHL-PMXN"
      }
    },
    {
      "cell_type": "markdown",
      "source": [
        "#### Using the already existing train and test set from question where\n",
        "we have columns such as below"
      ],
      "metadata": {
        "id": "8lIvfE3VQCK4"
      }
    },
    {
      "cell_type": "code",
      "source": [
        "class_train.columns"
      ],
      "metadata": {
        "colab": {
          "base_uri": "https://localhost:8080/"
        },
        "id": "OBjSQOjyOIt6",
        "outputId": "286e381d-1204-42b6-ebeb-07da2802e4e8"
      },
      "execution_count": null,
      "outputs": [
        {
          "output_type": "execute_result",
          "data": {
            "text/plain": [
              "Index(['fixed acidity', 'volatile acidity', 'citric acid', 'residual sugar',\n",
              "       'chlorides', 'free sulfur dioxide', 'total sulfur dioxide', 'density',\n",
              "       'pH', 'sulphates', 'alcohol', 'quality'],\n",
              "      dtype='object')"
            ]
          },
          "metadata": {},
          "execution_count": 113
        }
      ]
    },
    {
      "cell_type": "markdown",
      "source": [
        "#### Dropping the Quality varible from the input sets, X train and X test\n",
        "and adding quality to Y_train and Y_test since it will be used to \n",
        "for predication."
      ],
      "metadata": {
        "id": "X9iiJ2ekQcfU"
      }
    },
    {
      "cell_type": "code",
      "execution_count": null,
      "metadata": {
        "id": "gNpcLqnTG3wB"
      },
      "outputs": [],
      "source": [
        "X_train = class_train.drop(['quality'], axis='columns')\n",
        "y_train = class_train.quality\n",
        "\n",
        "X_test = class_test.drop(['quality'], axis='columns')\n",
        "y_test = class_test.quality"
      ]
    },
    {
      "cell_type": "code",
      "execution_count": null,
      "metadata": {
        "id": "nBjuw9UYHrh8",
        "colab": {
          "base_uri": "https://localhost:8080/",
          "height": 284
        },
        "outputId": "aaa6f9f9-05eb-4775-9a7f-4910d39c863a"
      },
      "outputs": [
        {
          "output_type": "display_data",
          "data": {
            "text/plain": [
              "<Figure size 432x288 with 1 Axes>"
            ],
            "image/png": "[encoded data removed]"
          },
          "metadata": {
            "needs_background": "light"
          }
        }
      ],
      "source": [
        "n=range(0,len(wine.quality))\n",
        "plt.scatter(wine.quality,n)\n",
        "plt.xlabel(\"Quality\", fontsize=16)\n",
        "plt.ylabel(\"number of observation\", rotation=90, fontsize=16)\n",
        "plt.show()\n"
      ]
    },
    {
      "cell_type": "markdown",
      "source": [
        "Plot shows recorded quality indecies, an indication that we have\n",
        "wines with quality level of 5,6,7.\n",
        "or more precisely in below where we have "
      ],
      "metadata": {
        "id": "dYvOxz-aUqfd"
      }
    },
    {
      "cell_type": "code",
      "execution_count": null,
      "metadata": {
        "colab": {
          "base_uri": "https://localhost:8080/"
        },
        "id": "R6074p82Hbib",
        "outputId": "39b27cff-f296-4c29-8109-3e1fd5c6e239"
      },
      "outputs": [
        {
          "output_type": "execute_result",
          "data": {
            "text/plain": [
              "3      20\n",
              "4     163\n",
              "5    1457\n",
              "6    2198\n",
              "7     880\n",
              "8     175\n",
              "9       5\n",
              "Name: quality, dtype: int64"
            ]
          },
          "metadata": {},
          "execution_count": 116
        }
      ],
      "source": [
        "wine.quality.value_counts().sort_index(ascending=True)"
      ]
    },
    {
      "cell_type": "markdown",
      "source": [
        "In this classification task, we will consider predicting wine quality using the other 11 features. The quality variable is an ordinal feature with labels ranging from 1-10, represneting rating. This classification task can be approached by treating all 10 labels as separate classes, or as only a binary variable for a certain threshold (e.g. 5), or in fact any number of classes in between. Since logistic regression is inherently a binary classifier, multi-class classification need to extend the algorithm. The two common approaches are One-vs-Rest and One-vs-One."
      ],
      "metadata": {
        "id": "LcN6d_7gtPm9"
      }
    },
    {
      "cell_type": "markdown",
      "metadata": {
        "id": "WSn7nDdeH1Re"
      },
      "source": [
        "## **Binary Classification**"
      ]
    },
    {
      "cell_type": "markdown",
      "source": [
        "Here we will treat the target as having only two categories (binary), using 5 as a cut-off (this is an arbitrary choice, though one that makes the most sense).\n",
        "\n",
        "This can be accomplished by using the imported `binarize` function from `sklearn` library. Initialy the code `((y_train > 5.0).sum())`, was being used, where it required extra steps in order filter out the rest of data. Whereas Binzarize function is meant for this very purpose and no extra steps are needed."
      ],
      "metadata": {
        "id": "tne2alP4ugCZ"
      }
    },
    {
      "cell_type": "code",
      "execution_count": null,
      "metadata": {
        "id": "BmQnsljQMYZt",
        "colab": {
          "base_uri": "https://localhost:8080/"
        },
        "outputId": "3d0a92fc-ca4b-4ad1-dca9-5ca85e940408"
      },
      "outputs": [
        {
          "output_type": "stream",
          "name": "stdout",
          "text": [
            "(3673,) y train\n",
            "(1225,) y test\n"
          ]
        },
        {
          "output_type": "execute_result",
          "data": {
            "text/plain": [
              "()"
            ]
          },
          "metadata": {},
          "execution_count": 117
        }
      ],
      "source": [
        "# Binarize labels\n",
        "y_train_binary = binarize(pd.DataFrame(y_train), threshold=5.0).reshape(-1)\n",
        "y_test_binary = binarize(pd.DataFrame(y_test), threshold=5.0).reshape(-1)\n",
        "print(y_train_binary.shape,\"y train\")\n",
        "print(y_test_binary.shape,'y test')\n",
        "\n",
        "# y_train_binary.sum(), (y_train > 5.0).sum()\n",
        "y_sampl=(y_train > 5.0).sum()\n",
        "y_sampl=y_sampl.astype(int)\n",
        "y_sampl.shape"
      ]
    },
    {
      "cell_type": "code",
      "execution_count": null,
      "metadata": {
        "id": "i4e4zaYKI2o6"
      },
      "outputs": [],
      "source": [
        "pipe2 = Pipeline([\n",
        "    ('scaler', StandardScaler()),\n",
        "    ('logreg', LogisticRegression())\n",
        "])\n",
        "\n",
        "# logreg_binary = TransformedTargetRegressor(regressor=pipe2, transformer=Binarizer(threshold=5.0))"
      ]
    },
    {
      "cell_type": "code",
      "execution_count": null,
      "metadata": {
        "colab": {
          "base_uri": "https://localhost:8080/"
        },
        "id": "j5FxNKlvLSya",
        "outputId": "1b798172-1d60-4444-e457-32d77a73ff2b"
      },
      "outputs": [
        {
          "output_type": "execute_result",
          "data": {
            "text/plain": [
              "Pipeline(steps=[('scaler', StandardScaler()), ('logreg', LogisticRegression())])"
            ]
          },
          "metadata": {},
          "execution_count": 119
        }
      ],
      "source": [
        "pipe2.fit(X_train, y_train_binary)"
      ]
    },
    {
      "cell_type": "markdown",
      "source": [
        "\n",
        "#### Accuracy of your training and testing model\n"
      ],
      "metadata": {
        "id": "E2kjYnjCOvYK"
      }
    },
    {
      "cell_type": "code",
      "execution_count": null,
      "metadata": {
        "id": "-k7nX-ULOOy9",
        "colab": {
          "base_uri": "https://localhost:8080/"
        },
        "outputId": "17b9c072-4ad0-4d3c-b5e0-947ec9e24dab"
      },
      "outputs": [
        {
          "output_type": "execute_result",
          "data": {
            "text/plain": [
              "0.7395918367346939"
            ]
          },
          "metadata": {},
          "execution_count": 120
        }
      ],
      "source": [
        "pipe2.score(X_test, y_test_binary)\n",
        "pipe2.score(X_test, y_test_binary)"
      ]
    },
    {
      "cell_type": "markdown",
      "metadata": {
        "id": "TT_YO4uSOkQV"
      },
      "source": [
        "## Multi-Class (All classes)"
      ]
    },
    {
      "cell_type": "markdown",
      "source": [
        "One-vs-Rest (OVR)\n",
        "\n",
        "The parameters of Logistic Regression support implementing an ovr classification, so this can be included within the pipeline itself."
      ],
      "metadata": {
        "id": "9JxDHhJNvCmN"
      }
    },
    {
      "cell_type": "code",
      "execution_count": null,
      "metadata": {
        "colab": {
          "base_uri": "https://localhost:8080/"
        },
        "id": "_Zs73aZcOmuB",
        "outputId": "8504abb7-44f7-4c53-a1f6-5e982b7d46f9"
      },
      "outputs": [
        {
          "output_type": "execute_result",
          "data": {
            "text/plain": [
              "0.5404081632653062"
            ]
          },
          "metadata": {},
          "execution_count": 121
        }
      ],
      "source": [
        "# \n",
        "pipe2_multi = Pipeline([\n",
        "    ('scaler', StandardScaler()),\n",
        "    ('logreg', LogisticRegression(multi_class='ovr'))\n",
        "])\n",
        "\n",
        "pipe2_multi.fit(X_train, y_train)\n",
        "pipe2_multi.score(X_test, y_test)"
      ]
    },
    {
      "cell_type": "markdown",
      "metadata": {
        "id": "Hum9jmnXRAqf"
      },
      "source": [
        "#### One-Vs-Rest\n",
        "\n",
        "Alternatively, we can use the specialised function OneVsRestClassifier to achieve the same result"
      ]
    },
    {
      "cell_type": "code",
      "execution_count": null,
      "metadata": {
        "colab": {
          "base_uri": "https://localhost:8080/"
        },
        "id": "vFhdy5bbOrbI",
        "outputId": "19660a91-9618-4ddb-aa6b-916becc9c3fa"
      },
      "outputs": [
        {
          "output_type": "execute_result",
          "data": {
            "text/plain": [
              "0.5404081632653062"
            ]
          },
          "metadata": {},
          "execution_count": 122
        }
      ],
      "source": [
        "ovr_clf = OneVsRestClassifier(pipe2)\n",
        "ovr_clf.fit(X_train, y_train)\n",
        "ovr_clf.score(X_test, y_test)"
      ]
    },
    {
      "cell_type": "markdown",
      "source": [
        "\n",
        "#### Accuracy of your training and testing model\n"
      ],
      "metadata": {
        "id": "lVAMqEYpPAYc"
      }
    },
    {
      "cell_type": "markdown",
      "metadata": {
        "id": "ktqjvP7LRDfz"
      },
      "source": [
        "#### One-Vs-One\n",
        "\n",
        "Similarly we can use the OneVsOneClassifier to perform OVO classification  "
      ]
    },
    {
      "cell_type": "code",
      "execution_count": null,
      "metadata": {
        "colab": {
          "base_uri": "https://localhost:8080/"
        },
        "id": "qfZUS5uLQ-tG",
        "outputId": "02d583e8-9bb1-4b51-c1b9-f918b6c1bdb6"
      },
      "outputs": [
        {
          "output_type": "execute_result",
          "data": {
            "text/plain": [
              "0.5281632653061225"
            ]
          },
          "metadata": {},
          "execution_count": 123
        }
      ],
      "source": [
        "ovo_clf = OneVsOneClassifier(pipe2)\n",
        "ovo_clf.fit(X_train, y_train)\n",
        "ovo_clf.score(X_test, y_test)"
      ]
    },
    {
      "cell_type": "markdown",
      "source": [
        "\n",
        "#### Accuracy of your training and testing model\n"
      ],
      "metadata": {
        "id": "BbcUNUdzPDOo"
      }
    },
    {
      "cell_type": "markdown",
      "source": [
        "There seems to not be a large difference between the two approaches for all 10 classes classification of wine quality"
      ],
      "metadata": {
        "id": "ElCpySZEvuEs"
      }
    },
    {
      "cell_type": "markdown",
      "metadata": {
        "id": "Vv0iLVCRS5Jm"
      },
      "source": [
        "## Multi-Class (k-class)"
      ]
    },
    {
      "cell_type": "markdown",
      "source": [
        "We can also consider an arbitrary number of classes in-between the binary and complete classes scenarios. This way we might be able to find the best number of classes.\n",
        "\n",
        "To do this in sklearn, we rely on the KBinDiscretizer to arbitrarily split the classes into k groups. In this case, we specify that each group should have the same distance apart (e.g. 2-4, 4-6)."
      ],
      "metadata": {
        "id": "RE4Fz4Pbv91I"
      }
    },
    {
      "cell_type": "code",
      "execution_count": null,
      "metadata": {
        "colab": {
          "base_uri": "https://localhost:8080/",
          "height": 446
        },
        "id": "ZxzQP21jUogW",
        "outputId": "834ef9b8-b4a2-4d00-8592-654696ccb3e9"
      },
      "outputs": [
        {
          "output_type": "stream",
          "name": "stdout",
          "text": [
            "Fitting ovr for 2 classes\n",
            "Fitting ovo for 2 classes\n",
            "Fitting ovr for 3 classes\n",
            "Fitting ovo for 3 classes\n",
            "Fitting ovr for 4 classes\n",
            "Fitting ovo for 4 classes\n",
            "Fitting ovr for 5 classes\n",
            "Fitting ovo for 5 classes\n",
            "Fitting ovr for 6 classes\n",
            "Fitting ovo for 6 classes\n",
            "Fitting ovr for 7 classes\n",
            "Fitting ovo for 7 classes\n"
          ]
        },
        {
          "output_type": "execute_result",
          "data": {
            "text/plain": [
              "        ovr       ovo\n",
              "2  0.739592  0.739592\n",
              "3  0.773061  0.768163\n",
              "4  0.684898  0.681633\n",
              "5  0.540408  0.526531\n",
              "6  0.540408  0.528163\n",
              "7  0.540408  0.528163"
            ],
            "text/html": [
              "\n",
              "  <div id=\"df-d9b7cbca-bec6-485d-917f-42f9a924e3a4\">\n",
              "    <div class=\"colab-df-container\">\n",
              "      <div>\n",
              "<style scoped>\n",
              "    .dataframe tbody tr th:only-of-type {\n",
              "        vertical-align: middle;\n",
              "    }\n",
              "\n",
              "    .dataframe tbody tr th {\n",
              "        vertical-align: top;\n",
              "    }\n",
              "\n",
              "    .dataframe thead th {\n",
              "        text-align: right;\n",
              "    }\n",
              "</style>\n",
              "<table border=\"1\" class=\"dataframe\">\n",
              "  <thead>\n",
              "    <tr style=\"text-align: right;\">\n",
              "      <th></th>\n",
              "      <th>ovr</th>\n",
              "      <th>ovo</th>\n",
              "    </tr>\n",
              "  </thead>\n",
              "  <tbody>\n",
              "    <tr>\n",
              "      <th>2</th>\n",
              "      <td>0.739592</td>\n",
              "      <td>0.739592</td>\n",
              "    </tr>\n",
              "    <tr>\n",
              "      <th>3</th>\n",
              "      <td>0.773061</td>\n",
              "      <td>0.768163</td>\n",
              "    </tr>\n",
              "    <tr>\n",
              "      <th>4</th>\n",
              "      <td>0.684898</td>\n",
              "      <td>0.681633</td>\n",
              "    </tr>\n",
              "    <tr>\n",
              "      <th>5</th>\n",
              "      <td>0.540408</td>\n",
              "      <td>0.526531</td>\n",
              "    </tr>\n",
              "    <tr>\n",
              "      <th>6</th>\n",
              "      <td>0.540408</td>\n",
              "      <td>0.528163</td>\n",
              "    </tr>\n",
              "    <tr>\n",
              "      <th>7</th>\n",
              "      <td>0.540408</td>\n",
              "      <td>0.528163</td>\n",
              "    </tr>\n",
              "  </tbody>\n",
              "</table>\n",
              "</div>\n",
              "      <button class=\"colab-df-convert\" onclick=\"convertToInteractive('df-d9b7cbca-bec6-485d-917f-42f9a924e3a4')\"\n",
              "              title=\"Convert this dataframe to an interactive table.\"\n",
              "              style=\"display:none;\">\n",
              "        \n",
              "  <svg xmlns=\"http://www.w3.org/2000/svg\" height=\"24px\"viewBox=\"0 0 24 24\"\n",
              "       width=\"24px\">\n",
              "    <path d=\"M0 0h24v24H0V0z\" fill=\"none\"/>\n",
              "    <path d=\"M18.56 5.44l.94 2.06.94-2.06 2.06-.94-2.06-.94-.94-2.06-.94 2.06-2.06.94zm-11 1L8.5 8.5l.94-2.06 2.06-.94-2.06-.94L8.5 2.5l-.94 2.06-2.06.94zm10 10l.94 2.06.94-2.06 2.06-.94-2.06-.94-.94-2.06-.94 2.06-2.06.94z\"/><path d=\"M17.41 7.96l-1.37-1.37c-.4-.4-.92-.59-1.43-.59-.52 0-1.04.2-1.43.59L10.3 9.45l-7.72 7.72c-.78.78-.78 2.05 0 2.83L4 21.41c.39.39.9.59 1.41.59.51 0 1.02-.2 1.41-.59l7.78-7.78 2.81-2.81c.8-.78.8-2.07 0-2.86zM5.41 20L4 18.59l7.72-7.72 1.47 1.35L5.41 20z\"/>\n",
              "  </svg>\n",
              "      </button>\n",
              "      \n",
              "  <style>\n",
              "    .colab-df-container {\n",
              "      display:flex;\n",
              "      flex-wrap:wrap;\n",
              "      gap: 12px;\n",
              "    }\n",
              "\n",
              "    .colab-df-convert {\n",
              "      background-color: #E8F0FE;\n",
              "      border: none;\n",
              "      border-radius: 50%;\n",
              "      cursor: pointer;\n",
              "      display: none;\n",
              "      fill: #1967D2;\n",
              "      height: 32px;\n",
              "      padding: 0 0 0 0;\n",
              "      width: 32px;\n",
              "    }\n",
              "\n",
              "    .colab-df-convert:hover {\n",
              "      background-color: #E2EBFA;\n",
              "      box-shadow: 0px 1px 2px rgba(60, 64, 67, 0.3), 0px 1px 3px 1px rgba(60, 64, 67, 0.15);\n",
              "      fill: #174EA6;\n",
              "    }\n",
              "\n",
              "    [theme=dark] .colab-df-convert {\n",
              "      background-color: #3B4455;\n",
              "      fill: #D2E3FC;\n",
              "    }\n",
              "\n",
              "    [theme=dark] .colab-df-convert:hover {\n",
              "      background-color: #434B5C;\n",
              "      box-shadow: 0px 1px 3px 1px rgba(0, 0, 0, 0.15);\n",
              "      filter: drop-shadow(0px 1px 2px rgba(0, 0, 0, 0.3));\n",
              "      fill: #FFFFFF;\n",
              "    }\n",
              "  </style>\n",
              "\n",
              "      <script>\n",
              "        const buttonEl =\n",
              "          document.querySelector('#df-d9b7cbca-bec6-485d-917f-42f9a924e3a4 button.colab-df-convert');\n",
              "        buttonEl.style.display =\n",
              "          google.colab.kernel.accessAllowed ? 'block' : 'none';\n",
              "\n",
              "        async function convertToInteractive(key) {\n",
              "          const element = document.querySelector('#df-d9b7cbca-bec6-485d-917f-42f9a924e3a4');\n",
              "          const dataTable =\n",
              "            await google.colab.kernel.invokeFunction('convertToInteractive',\n",
              "                                                     [key], {});\n",
              "          if (!dataTable) return;\n",
              "\n",
              "          const docLinkHtml = 'Like what you see? Visit the ' +\n",
              "            '<a target=\"_blank\" href=https://colab.research.google.com/notebooks/data_table.ipynb>data table notebook</a>'\n",
              "            + ' to learn more about interactive tables.';\n",
              "          element.innerHTML = '';\n",
              "          dataTable['output_type'] = 'display_data';\n",
              "          await google.colab.output.renderOutput(dataTable, element);\n",
              "          const docLink = document.createElement('div');\n",
              "          docLink.innerHTML = docLinkHtml;\n",
              "          element.appendChild(docLink);\n",
              "        }\n",
              "      </script>\n",
              "    </div>\n",
              "  </div>\n",
              "  "
            ]
          },
          "metadata": {},
          "execution_count": 124
        }
      ],
      "source": [
        "max_cat = y_train.nunique()\n",
        "\n",
        "results_kclass = pd.DataFrame(index=pd.RangeIndex(start=2, stop=max_cat+1), columns=['ovr','ovo'])\n",
        "\n",
        "multi_func = {'ovr':OneVsRestClassifier,\n",
        "              'ovo':OneVsOneClassifier}\n",
        "\n",
        "for k in results_kclass.index:\n",
        "  splitter = KBinsDiscretizer(n_bins=k, strategy='uniform', encode='ordinal')\n",
        "  y_trans_train = splitter.fit_transform(pd.DataFrame(y_train)).reshape(-1)\n",
        "  y_trans_test = splitter.transform(pd.DataFrame(y_test)).reshape(-1)\n",
        "  for kind, classifier in multi_func.items():\n",
        "    clf = classifier(pipe2)\n",
        "    print(f'Fitting {kind} for {k} classes')\n",
        "    clf.fit(X_train, y_trans_train)\n",
        "    results_kclass.loc[k, kind] = clf.score(X_test, y_trans_test)\n",
        "\n",
        "results_kclass"
      ]
    },
    {
      "cell_type": "code",
      "execution_count": null,
      "metadata": {
        "colab": {
          "base_uri": "https://localhost:8080/",
          "height": 312
        },
        "id": "srT7w2AQUzHE",
        "outputId": "612849f2-f653-42cb-808c-e2a48212cd59"
      },
      "outputs": [
        {
          "output_type": "execute_result",
          "data": {
            "text/plain": [
              "Text(0.5, 1.0, 'Logistic Regression (Predicting Quality)')"
            ]
          },
          "metadata": {},
          "execution_count": 125
        },
        {
          "output_type": "display_data",
          "data": {
            "text/plain": [
              "<Figure size 432x288 with 1 Axes>"
            ],
            "image/png": "[encoded data removed]"
          },
          "metadata": {
            "needs_background": "light"
          }
        }
      ],
      "source": [
        "results_kclass.plot(kind='barh', ylabel='Accuracy', xlabel='Number of Classes')\n",
        "plt.xlabel(\"Test Accuracy\")\n",
        "plt.title(\"Logistic Regression (Predicting Quality)\")"
      ]
    },
    {
      "cell_type": "code",
      "execution_count": null,
      "metadata": {
        "id": "Hnm_yfavRqeE"
      },
      "outputs": [],
      "source": [
        "  splitter = KBinsDiscretizer(n_bins=3, strategy='uniform', encode='ordinal')\n",
        "  ytrans = splitter.fit_transform(pd.DataFrame(y_train)).reshape(-1)\n",
        "  # # np.unique(ytrans, return_counts=True)\n",
        "  # clf = OneVsRestClassifier(pipe2)\n",
        "  # clf.fit(X_train, ytrans)"
      ]
    },
    {
      "cell_type": "code",
      "execution_count": null,
      "metadata": {
        "colab": {
          "base_uri": "https://localhost:8080/"
        },
        "id": "k9Qp5_8XYFXz",
        "outputId": "dffbdb9d-fa68-4f0d-893e-eb06cf267b37"
      },
      "outputs": [
        {
          "output_type": "stream",
          "name": "stderr",
          "text": [
            "/usr/local/lib/python3.7/dist-packages/sklearn/base.py:451: UserWarning: X does not have valid feature names, but KBinsDiscretizer was fitted with feature names\n",
            "  \"X does not have valid feature names, but\"\n"
          ]
        },
        {
          "output_type": "execute_result",
          "data": {
            "text/plain": [
              "array([[3, 0],\n",
              "       [4, 0],\n",
              "       [5, 1],\n",
              "       [6, 1],\n",
              "       [7, 2],\n",
              "       [8, 2],\n",
              "       [9, 2]])"
            ]
          },
          "metadata": {},
          "execution_count": 127
        }
      ],
      "source": [
        "cc = pd.DataFrame(y_train.unique()).sort_values(0)\n",
        "np.hstack([cc.values, splitter.transform(cc)]).astype('int')"
      ]
    },
    {
      "cell_type": "markdown",
      "source": [
        "\n",
        "#### Accuracy of your training and testing model\n"
      ],
      "metadata": {
        "id": "yx5G6fiiQRQA"
      }
    },
    {
      "cell_type": "markdown",
      "metadata": {
        "id": "EHiz-IM7XmI-"
      },
      "source": [
        "# **Conclusion**\n",
        "Optimal Number of classes to split by is **3 classes**, split at uniform range.\n",
        "\n",
        "One-Vs-Rest performs consistently better than One-Vs-One, although by only a small margin.\n",
        "\n",
        "\n",
        "**Advantages for Logistic regression :**\n",
        "* Does not cost a high compuation power \n",
        "* Easy to use and to interpert the results\n",
        "\n",
        "**Disadvantages for Logistic regression :**\n",
        " \n",
        "\n",
        "*    Great chance of overfitting, which users should avoid of by performing trial and error\n",
        "*    Does not support non-linear problems\n",
        "*  Low support of large set of categorical factors\n",
        "\n",
        " \n"
      ]
    },
    {
      "cell_type": "markdown",
      "metadata": {
        "id": "rDnK2CAC0UI9"
      },
      "source": [
        "# Question 3 \n",
        "\n",
        "**Napat**\n",
        "\n",
        "### Create a Ridge regression model to predict alcohol content (as in Question 1). What to submit \n",
        "\n",
        "#### • Submit your Python code as part of your report or if you have separate Python code (.py files), write in your report what they are called and where to find them on GitHub. \n"
      ]
    },
    {
      "cell_type": "markdown",
      "source": [
        "### Write a brief description of your steps to create your model, including but not limited to the following:\n",
        "The Ridge Regression model to predict alcohol content is built using sklearn pipelines features. \n",
        "At first X an Y training and testing set are made.\n",
        "After which a pipeline is formualted using standard scalar and ridge regression model."
      ],
      "metadata": {
        "id": "iGX88whUuWwQ"
      }
    },
    {
      "cell_type": "markdown",
      "source": [],
      "metadata": {
        "id": "nNTThry3RSYg"
      }
    },
    {
      "cell_type": "code",
      "execution_count": null,
      "metadata": {
        "id": "RTlLUhh6cFy6"
      },
      "outputs": [],
      "source": [
        "# Assign predictor and target variables (alcohol) for training and testing data\n",
        "X_train = class_train.drop(['quality', 'alcohol'], axis='columns')\n",
        "X_test = class_test.drop(['quality', 'alcohol'], axis='columns')\n",
        "y_train = class_train.alcohol\n",
        "y_test = class_test.alcohol"
      ]
    },
    {
      "cell_type": "markdown",
      "metadata": {
        "id": "fWJHNX1hitS-"
      },
      "source": [
        "### Creating Pipeline"
      ]
    },
    {
      "cell_type": "code",
      "execution_count": null,
      "metadata": {
        "id": "hZ2CsDG_cWzH"
      },
      "outputs": [],
      "source": [
        "# A pipeline that consists of a standard scaler and Ridge Regression\n",
        "pipe3 = Pipeline([\n",
        "    ('scaler', StandardScaler()),\n",
        "    ('reg', Ridge())\n",
        "])"
      ]
    },
    {
      "cell_type": "markdown",
      "source": [
        "##### Accuracy of your model on the training and test data?\n",
        "\n"
      ],
      "metadata": {
        "id": "kT4IAXcJQ8AW"
      }
    },
    {
      "cell_type": "markdown",
      "metadata": {
        "id": "X7xw56j4kj_S"
      },
      "source": [
        "### Train Result: Default hyperparameters"
      ]
    },
    {
      "cell_type": "code",
      "execution_count": null,
      "metadata": {
        "colab": {
          "base_uri": "https://localhost:8080/"
        },
        "id": "aC-Z0e0Dkkeg",
        "outputId": "980e88cb-8a83-4a27-ce52-3d0da137d1d5"
      },
      "outputs": [
        {
          "output_type": "stream",
          "name": "stdout",
          "text": [
            "R^2 : 0.8972859142758354\n",
            "MSE : 0.1572223129078047\n"
          ]
        }
      ],
      "source": [
        "# Fit using default Ridge()\n",
        "pipe3.fit(X_train, y_train)\n",
        "y_pred = pipe3.predict(X_test)\n",
        "\n",
        "\n",
        "# Evaluate using R2 and Mean Squared Error\n",
        "r2 = r2_score(y_test, y_pred)\n",
        "mse = mean_squared_error(y_test, y_pred)\n",
        "print(f'R^2 : {r2}\\nMSE : {mse}')"
      ]
    },
    {
      "cell_type": "markdown",
      "source": [
        "##### Tuning the hyperparameter\n",
        "\n"
      ],
      "metadata": {
        "id": "lcmyS-5oRhrQ"
      }
    },
    {
      "cell_type": "markdown",
      "metadata": {
        "id": "OZXViW0Wixs0"
      },
      "source": [
        "### Finding most important features"
      ]
    },
    {
      "cell_type": "code",
      "execution_count": null,
      "metadata": {
        "id": "5RUnr1Pwco7G"
      },
      "outputs": [],
      "source": [
        "# Number of alphas to iterate over\n",
        "n_alphas = 200\n",
        "alphas = np.logspace(-1,5, n_alphas) # create n number alphas on a log scale base 10\n",
        "coefs = np.empty((n_alphas, X_train.columns.size)) # empty container\n",
        "\n",
        "# Fit, extract and store model weights for each alpha\n",
        "for i, a in enumerate(alphas):\n",
        "  pipe3.set_params(reg__alpha=a, reg__fit_intercept=False) # set to current alpha\n",
        "  pipe3.fit(X_train, y_train)\n",
        "  coefs[i, :] = pipe3.named_steps.reg.coef_ # Extract weights and store to row i\n"
      ]
    },
    {
      "cell_type": "code",
      "execution_count": null,
      "metadata": {
        "colab": {
          "base_uri": "https://localhost:8080/",
          "height": 283
        },
        "id": "UJnyfGK2fnsK",
        "outputId": "4d5e586b-359b-4a9b-e705-ffcb0d0448eb"
      },
      "outputs": [
        {
          "output_type": "display_data",
          "data": {
            "text/plain": [
              "<Figure size 432x288 with 1 Axes>"
            ],
            "image/png": "[encoded data removed]"
          },
          "metadata": {
            "needs_background": "light"
          }
        }
      ],
      "source": [
        "# Plot\n",
        "ax = plt.gca() # gca -- get current axis\n",
        "\n",
        "ax.plot(alphas, coefs)\n",
        "ax.set_xscale('log') # Log-scale alpha\n",
        "ax.set_xlim(ax.get_xlim()[::-1]) # Reverse x-axis\n",
        "ax.set_xlabel(\"Alpha\")\n",
        "ax.set_ylabel(\"Weight\")\n",
        "# Set Legend to column names\n",
        "ax.legend(X_train.columns, bbox_to_anchor=(1.3,0.5), loc='right', fontsize=10)\n",
        "\n",
        "plt.show();"
      ]
    },
    {
      "cell_type": "code",
      "execution_count": null,
      "metadata": {
        "colab": {
          "base_uri": "https://localhost:8080/"
        },
        "id": "kjMib6kyex1q",
        "outputId": "f27b0935-baa0-4d6e-c4d4-883d1968aed4"
      },
      "outputs": [
        {
          "output_type": "execute_result",
          "data": {
            "text/plain": [
              "density           2.063222\n",
              "residual sugar    1.218334\n",
              "dtype: float64"
            ]
          },
          "metadata": {},
          "execution_count": 133
        }
      ],
      "source": [
        "## Show which variable has the highest absolute weights\n",
        "\n",
        "# Turn coefs to data frame for easy naming\n",
        "coefs_df = pd.DataFrame(coefs, index=alphas, columns=X_train.columns)\n",
        "# Find the maximum absolute values of weight for each predictor, then pick the highest 2\n",
        "coefs_df.apply(lambda x: np.max(np.abs(x)), axis='rows').sort_values(ascending=False).head(2)"
      ]
    },
    {
      "cell_type": "markdown",
      "metadata": {
        "id": "t9aNclycj49f"
      },
      "source": [
        "As the regularisation plot and the summary result above shows, the features with the highest predictive power to `Alcohol`:\n",
        "1. `Density` (Negatively correlated: lower density, higher alcohol)\n",
        "2. `Residual Sugar` (Positively correlated: higher sugar, higher alcohol)"
      ]
    },
    {
      "cell_type": "markdown",
      "metadata": {
        "id": "20bOMxn9kbN4"
      },
      "source": [
        "### Hyperparameter Tuning"
      ]
    },
    {
      "cell_type": "code",
      "execution_count": null,
      "metadata": {
        "id": "_mD_wfujjRD4"
      },
      "outputs": [],
      "source": [
        "# Parameters to search over\n",
        "param_grid = {\n",
        "    'reg__alpha':alphas, # same list of alphas\n",
        "    'reg__fit_intercept':[True, False], # whether to fit intercept or not\n",
        "    'reg__solver':['svd', 'cholesky', 'saga'] # only 3 solvers chosen for performance\n",
        "    # 'reg__solver':['svd', 'cholesky', 'lsqr', 'sparse_cg', 'sag', 'saga', 'lbfgs']\n",
        "}\n",
        "grid = GridSearchCV(pipe3, param_grid=param_grid, cv=3)"
      ]
    },
    {
      "cell_type": "code",
      "execution_count": null,
      "metadata": {
        "id": "pZmrErFUmTDT"
      },
      "outputs": [],
      "source": [
        "# Perform grid search\n",
        "grid.fit(X_train, y_train);"
      ]
    },
    {
      "cell_type": "code",
      "execution_count": null,
      "metadata": {
        "id": "nHL_s5g7mVLU"
      },
      "outputs": [],
      "source": [
        "# Best hyper-parameters found\n",
        "grid.best_params_"
      ]
    },
    {
      "cell_type": "code",
      "execution_count": null,
      "metadata": {
        "id": "KzFyOBQVneDR"
      },
      "outputs": [],
      "source": [
        "# Best Cross-Validation score\n",
        "grid.best_score_"
      ]
    },
    {
      "cell_type": "code",
      "execution_count": null,
      "metadata": {
        "id": "IlTTcNPRnD7R"
      },
      "outputs": [],
      "source": [
        "# Evaluate on test set\n",
        "y_pred = grid.predict(X_test)\n",
        "r2 = r2_score(y_test, y_pred)\n",
        "mse = mean_squared_error(y_test, y_pred)\n",
        "print(f'R^2 : {r2}\\nMSE : {mse}')"
      ]
    },
    {
      "cell_type": "markdown",
      "metadata": {
        "id": "BfABpXWqoN87"
      },
      "source": [
        "Compared with the default hyperparameters, tuning the model barely made any difference to the performance on the test set."
      ]
    },
    {
      "cell_type": "markdown",
      "source": [
        "##### What’s the difference between the two models?"
      ],
      "metadata": {
        "id": "CQLFf98FRmGf"
      }
    }
  ],
  "metadata": {
    "colab": {
      "collapsed_sections": [],
      "provenance": [],
      "include_colab_link": true
    },
    "kernelspec": {
      "display_name": "Python 3",
      "name": "python3"
    },
    "language_info": {
      "name": "python"
    }
  },
  "nbformat": 4,
  "nbformat_minor": 0
}